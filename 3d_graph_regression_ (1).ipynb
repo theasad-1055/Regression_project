{
 "cells": [
  {
   "cell_type": "markdown",
   "metadata": {
    "id": "YGDtytgLO7bc"
   },
   "source": [
    "# **3d** Graph plot multi_regression"
   ]
  },
  {
   "cell_type": "code",
   "execution_count": 2,
   "metadata": {},
   "outputs": [
    {
     "name": "stdout",
     "output_type": "stream",
     "text": [
      "Defaulting to user installation because normal site-packages is not writeable\n",
      "Collecting plotly\n",
      "  Downloading plotly-6.3.1-py3-none-any.whl.metadata (8.5 kB)\n",
      "Collecting narwhals>=1.15.1 (from plotly)\n",
      "  Downloading narwhals-2.8.0-py3-none-any.whl.metadata (11 kB)\n",
      "Requirement already satisfied: packaging in c:\\users\\ali\\appdata\\roaming\\python\\python312\\site-packages (from plotly) (24.2)\n",
      "Downloading plotly-6.3.1-py3-none-any.whl (9.8 MB)\n",
      "   ---------------------------------------- 0.0/9.8 MB ? eta -:--:--\n",
      "   - -------------------------------------- 0.3/9.8 MB ? eta -:--:--\n",
      "   --- ------------------------------------ 0.8/9.8 MB 2.4 MB/s eta 0:00:04\n",
      "   ------ --------------------------------- 1.6/9.8 MB 3.0 MB/s eta 0:00:03\n",
      "   --------- ------------------------------ 2.4/9.8 MB 3.3 MB/s eta 0:00:03\n",
      "   ------------- -------------------------- 3.4/9.8 MB 3.5 MB/s eta 0:00:02\n",
      "   ----------------- ---------------------- 4.2/9.8 MB 3.8 MB/s eta 0:00:02\n",
      "   ---------------------- ----------------- 5.5/9.8 MB 4.0 MB/s eta 0:00:02\n",
      "   -------------------------- ------------- 6.6/9.8 MB 4.3 MB/s eta 0:00:01\n",
      "   ---------------------------------- ----- 8.4/9.8 MB 4.6 MB/s eta 0:00:01\n",
      "   ---------------------------------------  9.7/9.8 MB 4.9 MB/s eta 0:00:01\n",
      "   ---------------------------------------- 9.8/9.8 MB 4.8 MB/s eta 0:00:00\n",
      "Downloading narwhals-2.8.0-py3-none-any.whl (415 kB)\n",
      "Installing collected packages: narwhals, plotly\n",
      "Successfully installed narwhals-2.8.0 plotly-6.3.1\n"
     ]
    },
    {
     "name": "stderr",
     "output_type": "stream",
     "text": [
      "  WARNING: The script plotly_get_chrome.exe is installed in 'C:\\Users\\ali\\AppData\\Roaming\\Python\\Python312\\Scripts' which is not on PATH.\n",
      "  Consider adding this directory to PATH or, if you prefer to suppress this warning, use --no-warn-script-location.\n",
      "\n",
      "[notice] A new release of pip is available: 24.2 -> 25.2\n",
      "[notice] To update, run: python.exe -m pip install --upgrade pip\n"
     ]
    }
   ],
   "source": [
    "!pip install plotly\n"
   ]
  },
  {
   "cell_type": "code",
   "execution_count": 17,
   "metadata": {},
   "outputs": [
    {
     "name": "stdout",
     "output_type": "stream",
     "text": [
      "Defaulting to user installation because normal site-packages is not writeable\n",
      "Requirement already satisfied: jupyterlab in c:\\users\\ali\\appdata\\roaming\\python\\python312\\site-packages (4.3.5)\n",
      "Requirement already satisfied: plotly>=5 in c:\\users\\ali\\appdata\\roaming\\python\\python312\\site-packages (6.3.1)\n",
      "Requirement already satisfied: ipywidgets>=7.6 in c:\\users\\ali\\appdata\\roaming\\python\\python312\\site-packages (8.1.5)\n",
      "Requirement already satisfied: async-lru>=1.0.0 in c:\\users\\ali\\appdata\\roaming\\python\\python312\\site-packages (from jupyterlab) (2.0.4)\n",
      "Requirement already satisfied: httpx>=0.25.0 in c:\\users\\ali\\appdata\\roaming\\python\\python312\\site-packages (from jupyterlab) (0.28.1)\n",
      "Requirement already satisfied: ipykernel>=6.5.0 in c:\\users\\ali\\appdata\\roaming\\python\\python312\\site-packages (from jupyterlab) (6.29.5)\n",
      "Requirement already satisfied: jinja2>=3.0.3 in c:\\users\\ali\\appdata\\roaming\\python\\python312\\site-packages (from jupyterlab) (3.1.6)\n",
      "Requirement already satisfied: jupyter-core in c:\\users\\ali\\appdata\\roaming\\python\\python312\\site-packages (from jupyterlab) (5.7.2)\n",
      "Requirement already satisfied: jupyter-lsp>=2.0.0 in c:\\users\\ali\\appdata\\roaming\\python\\python312\\site-packages (from jupyterlab) (2.2.5)\n",
      "Requirement already satisfied: jupyter-server<3,>=2.4.0 in c:\\users\\ali\\appdata\\roaming\\python\\python312\\site-packages (from jupyterlab) (2.15.0)\n",
      "Requirement already satisfied: jupyterlab-server<3,>=2.27.1 in c:\\users\\ali\\appdata\\roaming\\python\\python312\\site-packages (from jupyterlab) (2.27.3)\n",
      "Requirement already satisfied: notebook-shim>=0.2 in c:\\users\\ali\\appdata\\roaming\\python\\python312\\site-packages (from jupyterlab) (0.2.4)\n",
      "Requirement already satisfied: packaging in c:\\users\\ali\\appdata\\roaming\\python\\python312\\site-packages (from jupyterlab) (24.2)\n",
      "Requirement already satisfied: setuptools>=40.8.0 in c:\\users\\ali\\appdata\\roaming\\python\\python312\\site-packages (from jupyterlab) (76.0.0)\n",
      "Requirement already satisfied: tornado>=6.2.0 in c:\\users\\ali\\appdata\\roaming\\python\\python312\\site-packages (from jupyterlab) (6.4.2)\n",
      "Requirement already satisfied: traitlets in c:\\users\\ali\\appdata\\roaming\\python\\python312\\site-packages (from jupyterlab) (5.14.3)\n",
      "Requirement already satisfied: narwhals>=1.15.1 in c:\\users\\ali\\appdata\\roaming\\python\\python312\\site-packages (from plotly>=5) (2.8.0)\n",
      "Requirement already satisfied: comm>=0.1.3 in c:\\users\\ali\\appdata\\roaming\\python\\python312\\site-packages (from ipywidgets>=7.6) (0.2.2)\n",
      "Requirement already satisfied: ipython>=6.1.0 in c:\\users\\ali\\appdata\\roaming\\python\\python312\\site-packages (from ipywidgets>=7.6) (9.0.2)\n",
      "Requirement already satisfied: widgetsnbextension~=4.0.12 in c:\\users\\ali\\appdata\\roaming\\python\\python312\\site-packages (from ipywidgets>=7.6) (4.0.13)\n",
      "Requirement already satisfied: jupyterlab-widgets~=3.0.12 in c:\\users\\ali\\appdata\\roaming\\python\\python312\\site-packages (from ipywidgets>=7.6) (3.0.13)\n",
      "Requirement already satisfied: anyio in c:\\users\\ali\\appdata\\roaming\\python\\python312\\site-packages (from httpx>=0.25.0->jupyterlab) (4.8.0)\n",
      "Requirement already satisfied: certifi in c:\\users\\ali\\appdata\\roaming\\python\\python312\\site-packages (from httpx>=0.25.0->jupyterlab) (2025.1.31)\n",
      "Requirement already satisfied: httpcore==1.* in c:\\users\\ali\\appdata\\roaming\\python\\python312\\site-packages (from httpx>=0.25.0->jupyterlab) (1.0.7)\n",
      "Requirement already satisfied: idna in c:\\users\\ali\\appdata\\roaming\\python\\python312\\site-packages (from httpx>=0.25.0->jupyterlab) (3.10)\n",
      "Requirement already satisfied: h11<0.15,>=0.13 in c:\\users\\ali\\appdata\\roaming\\python\\python312\\site-packages (from httpcore==1.*->httpx>=0.25.0->jupyterlab) (0.14.0)\n",
      "Requirement already satisfied: debugpy>=1.6.5 in c:\\users\\ali\\appdata\\roaming\\python\\python312\\site-packages (from ipykernel>=6.5.0->jupyterlab) (1.8.13)\n",
      "Requirement already satisfied: jupyter-client>=6.1.12 in c:\\users\\ali\\appdata\\roaming\\python\\python312\\site-packages (from ipykernel>=6.5.0->jupyterlab) (8.6.3)\n",
      "Requirement already satisfied: matplotlib-inline>=0.1 in c:\\users\\ali\\appdata\\roaming\\python\\python312\\site-packages (from ipykernel>=6.5.0->jupyterlab) (0.1.7)\n",
      "Requirement already satisfied: nest-asyncio in c:\\users\\ali\\appdata\\roaming\\python\\python312\\site-packages (from ipykernel>=6.5.0->jupyterlab) (1.6.0)\n",
      "Requirement already satisfied: psutil in c:\\users\\ali\\appdata\\roaming\\python\\python312\\site-packages (from ipykernel>=6.5.0->jupyterlab) (7.0.0)\n",
      "Requirement already satisfied: pyzmq>=24 in c:\\users\\ali\\appdata\\roaming\\python\\python312\\site-packages (from ipykernel>=6.5.0->jupyterlab) (26.2.1)\n",
      "Requirement already satisfied: colorama in c:\\users\\ali\\appdata\\roaming\\python\\python312\\site-packages (from ipython>=6.1.0->ipywidgets>=7.6) (0.4.6)\n",
      "Requirement already satisfied: decorator in c:\\users\\ali\\appdata\\roaming\\python\\python312\\site-packages (from ipython>=6.1.0->ipywidgets>=7.6) (5.2.1)\n",
      "Requirement already satisfied: ipython-pygments-lexers in c:\\users\\ali\\appdata\\roaming\\python\\python312\\site-packages (from ipython>=6.1.0->ipywidgets>=7.6) (1.1.1)\n",
      "Requirement already satisfied: jedi>=0.16 in c:\\users\\ali\\appdata\\roaming\\python\\python312\\site-packages (from ipython>=6.1.0->ipywidgets>=7.6) (0.19.2)\n",
      "Requirement already satisfied: prompt_toolkit<3.1.0,>=3.0.41 in c:\\users\\ali\\appdata\\roaming\\python\\python312\\site-packages (from ipython>=6.1.0->ipywidgets>=7.6) (3.0.50)\n",
      "Requirement already satisfied: pygments>=2.4.0 in c:\\users\\ali\\appdata\\roaming\\python\\python312\\site-packages (from ipython>=6.1.0->ipywidgets>=7.6) (2.19.1)\n",
      "Requirement already satisfied: stack_data in c:\\users\\ali\\appdata\\roaming\\python\\python312\\site-packages (from ipython>=6.1.0->ipywidgets>=7.6) (0.6.3)\n",
      "Requirement already satisfied: MarkupSafe>=2.0 in c:\\users\\ali\\appdata\\roaming\\python\\python312\\site-packages (from jinja2>=3.0.3->jupyterlab) (2.1.5)\n",
      "Requirement already satisfied: platformdirs>=2.5 in c:\\users\\ali\\appdata\\roaming\\python\\python312\\site-packages (from jupyter-core->jupyterlab) (4.3.6)\n",
      "Requirement already satisfied: pywin32>=300 in c:\\users\\ali\\appdata\\roaming\\python\\python312\\site-packages (from jupyter-core->jupyterlab) (309)\n",
      "Requirement already satisfied: argon2-cffi>=21.1 in c:\\users\\ali\\appdata\\roaming\\python\\python312\\site-packages (from jupyter-server<3,>=2.4.0->jupyterlab) (23.1.0)\n",
      "Requirement already satisfied: jupyter-events>=0.11.0 in c:\\users\\ali\\appdata\\roaming\\python\\python312\\site-packages (from jupyter-server<3,>=2.4.0->jupyterlab) (0.12.0)\n",
      "Requirement already satisfied: jupyter-server-terminals>=0.4.4 in c:\\users\\ali\\appdata\\roaming\\python\\python312\\site-packages (from jupyter-server<3,>=2.4.0->jupyterlab) (0.5.3)\n",
      "Requirement already satisfied: nbconvert>=6.4.4 in c:\\users\\ali\\appdata\\roaming\\python\\python312\\site-packages (from jupyter-server<3,>=2.4.0->jupyterlab) (7.16.6)\n",
      "Requirement already satisfied: nbformat>=5.3.0 in c:\\users\\ali\\appdata\\roaming\\python\\python312\\site-packages (from jupyter-server<3,>=2.4.0->jupyterlab) (5.10.4)\n",
      "Requirement already satisfied: overrides>=5.0 in c:\\users\\ali\\appdata\\roaming\\python\\python312\\site-packages (from jupyter-server<3,>=2.4.0->jupyterlab) (7.7.0)\n",
      "Requirement already satisfied: prometheus-client>=0.9 in c:\\users\\ali\\appdata\\roaming\\python\\python312\\site-packages (from jupyter-server<3,>=2.4.0->jupyterlab) (0.21.1)\n",
      "Requirement already satisfied: pywinpty>=2.0.1 in c:\\users\\ali\\appdata\\roaming\\python\\python312\\site-packages (from jupyter-server<3,>=2.4.0->jupyterlab) (2.0.15)\n",
      "Requirement already satisfied: send2trash>=1.8.2 in c:\\users\\ali\\appdata\\roaming\\python\\python312\\site-packages (from jupyter-server<3,>=2.4.0->jupyterlab) (1.8.3)\n",
      "Requirement already satisfied: terminado>=0.8.3 in c:\\users\\ali\\appdata\\roaming\\python\\python312\\site-packages (from jupyter-server<3,>=2.4.0->jupyterlab) (0.18.1)\n",
      "Requirement already satisfied: websocket-client>=1.7 in c:\\users\\ali\\appdata\\roaming\\python\\python312\\site-packages (from jupyter-server<3,>=2.4.0->jupyterlab) (1.8.0)\n",
      "Requirement already satisfied: babel>=2.10 in c:\\users\\ali\\appdata\\roaming\\python\\python312\\site-packages (from jupyterlab-server<3,>=2.27.1->jupyterlab) (2.17.0)\n",
      "Requirement already satisfied: json5>=0.9.0 in c:\\users\\ali\\appdata\\roaming\\python\\python312\\site-packages (from jupyterlab-server<3,>=2.27.1->jupyterlab) (0.10.0)\n",
      "Requirement already satisfied: jsonschema>=4.18.0 in c:\\users\\ali\\appdata\\roaming\\python\\python312\\site-packages (from jupyterlab-server<3,>=2.27.1->jupyterlab) (4.23.0)\n",
      "Requirement already satisfied: requests>=2.31 in c:\\users\\ali\\appdata\\roaming\\python\\python312\\site-packages (from jupyterlab-server<3,>=2.27.1->jupyterlab) (2.32.3)\n",
      "Requirement already satisfied: sniffio>=1.1 in c:\\users\\ali\\appdata\\roaming\\python\\python312\\site-packages (from anyio->httpx>=0.25.0->jupyterlab) (1.3.1)\n",
      "Requirement already satisfied: typing_extensions>=4.5 in c:\\users\\ali\\appdata\\roaming\\python\\python312\\site-packages (from anyio->httpx>=0.25.0->jupyterlab) (4.15.0)\n",
      "Requirement already satisfied: argon2-cffi-bindings in c:\\users\\ali\\appdata\\roaming\\python\\python312\\site-packages (from argon2-cffi>=21.1->jupyter-server<3,>=2.4.0->jupyterlab) (21.2.0)\n",
      "Requirement already satisfied: parso<0.9.0,>=0.8.4 in c:\\users\\ali\\appdata\\roaming\\python\\python312\\site-packages (from jedi>=0.16->ipython>=6.1.0->ipywidgets>=7.6) (0.8.4)\n",
      "Requirement already satisfied: attrs>=22.2.0 in c:\\users\\ali\\appdata\\roaming\\python\\python312\\site-packages (from jsonschema>=4.18.0->jupyterlab-server<3,>=2.27.1->jupyterlab) (25.1.0)\n",
      "Requirement already satisfied: jsonschema-specifications>=2023.03.6 in c:\\users\\ali\\appdata\\roaming\\python\\python312\\site-packages (from jsonschema>=4.18.0->jupyterlab-server<3,>=2.27.1->jupyterlab) (2024.10.1)\n",
      "Requirement already satisfied: referencing>=0.28.4 in c:\\users\\ali\\appdata\\roaming\\python\\python312\\site-packages (from jsonschema>=4.18.0->jupyterlab-server<3,>=2.27.1->jupyterlab) (0.36.2)\n",
      "Requirement already satisfied: rpds-py>=0.7.1 in c:\\users\\ali\\appdata\\roaming\\python\\python312\\site-packages (from jsonschema>=4.18.0->jupyterlab-server<3,>=2.27.1->jupyterlab) (0.23.1)\n",
      "Requirement already satisfied: python-dateutil>=2.8.2 in c:\\users\\ali\\appdata\\roaming\\python\\python312\\site-packages (from jupyter-client>=6.1.12->ipykernel>=6.5.0->jupyterlab) (2.9.0.post0)\n",
      "Requirement already satisfied: python-json-logger>=2.0.4 in c:\\users\\ali\\appdata\\roaming\\python\\python312\\site-packages (from jupyter-events>=0.11.0->jupyter-server<3,>=2.4.0->jupyterlab) (3.3.0)\n",
      "Requirement already satisfied: pyyaml>=5.3 in c:\\users\\ali\\appdata\\roaming\\python\\python312\\site-packages (from jupyter-events>=0.11.0->jupyter-server<3,>=2.4.0->jupyterlab) (6.0.2)\n",
      "Requirement already satisfied: rfc3339-validator in c:\\users\\ali\\appdata\\roaming\\python\\python312\\site-packages (from jupyter-events>=0.11.0->jupyter-server<3,>=2.4.0->jupyterlab) (0.1.4)\n",
      "Requirement already satisfied: rfc3986-validator>=0.1.1 in c:\\users\\ali\\appdata\\roaming\\python\\python312\\site-packages (from jupyter-events>=0.11.0->jupyter-server<3,>=2.4.0->jupyterlab) (0.1.1)\n",
      "Requirement already satisfied: beautifulsoup4 in c:\\users\\ali\\appdata\\roaming\\python\\python312\\site-packages (from nbconvert>=6.4.4->jupyter-server<3,>=2.4.0->jupyterlab) (4.13.3)\n",
      "Requirement already satisfied: bleach!=5.0.0 in c:\\users\\ali\\appdata\\roaming\\python\\python312\\site-packages (from bleach[css]!=5.0.0->nbconvert>=6.4.4->jupyter-server<3,>=2.4.0->jupyterlab) (6.2.0)\n",
      "Requirement already satisfied: defusedxml in c:\\users\\ali\\appdata\\roaming\\python\\python312\\site-packages (from nbconvert>=6.4.4->jupyter-server<3,>=2.4.0->jupyterlab) (0.7.1)\n",
      "Requirement already satisfied: jupyterlab-pygments in c:\\users\\ali\\appdata\\roaming\\python\\python312\\site-packages (from nbconvert>=6.4.4->jupyter-server<3,>=2.4.0->jupyterlab) (0.3.0)\n",
      "Requirement already satisfied: mistune<4,>=2.0.3 in c:\\users\\ali\\appdata\\roaming\\python\\python312\\site-packages (from nbconvert>=6.4.4->jupyter-server<3,>=2.4.0->jupyterlab) (3.1.2)\n",
      "Requirement already satisfied: nbclient>=0.5.0 in c:\\users\\ali\\appdata\\roaming\\python\\python312\\site-packages (from nbconvert>=6.4.4->jupyter-server<3,>=2.4.0->jupyterlab) (0.10.2)\n",
      "Requirement already satisfied: pandocfilters>=1.4.1 in c:\\users\\ali\\appdata\\roaming\\python\\python312\\site-packages (from nbconvert>=6.4.4->jupyter-server<3,>=2.4.0->jupyterlab) (1.5.1)\n",
      "Requirement already satisfied: fastjsonschema>=2.15 in c:\\users\\ali\\appdata\\roaming\\python\\python312\\site-packages (from nbformat>=5.3.0->jupyter-server<3,>=2.4.0->jupyterlab) (2.21.1)\n",
      "Requirement already satisfied: wcwidth in c:\\users\\ali\\appdata\\roaming\\python\\python312\\site-packages (from prompt_toolkit<3.1.0,>=3.0.41->ipython>=6.1.0->ipywidgets>=7.6) (0.2.13)\n",
      "Requirement already satisfied: charset-normalizer<4,>=2 in c:\\users\\ali\\appdata\\roaming\\python\\python312\\site-packages (from requests>=2.31->jupyterlab-server<3,>=2.27.1->jupyterlab) (3.4.1)\n",
      "Requirement already satisfied: urllib3<3,>=1.21.1 in c:\\users\\ali\\appdata\\roaming\\python\\python312\\site-packages (from requests>=2.31->jupyterlab-server<3,>=2.27.1->jupyterlab) (2.3.0)\n",
      "Requirement already satisfied: executing>=1.2.0 in c:\\users\\ali\\appdata\\roaming\\python\\python312\\site-packages (from stack_data->ipython>=6.1.0->ipywidgets>=7.6) (2.2.0)\n",
      "Requirement already satisfied: asttokens>=2.1.0 in c:\\users\\ali\\appdata\\roaming\\python\\python312\\site-packages (from stack_data->ipython>=6.1.0->ipywidgets>=7.6) (3.0.0)\n",
      "Requirement already satisfied: pure-eval in c:\\users\\ali\\appdata\\roaming\\python\\python312\\site-packages (from stack_data->ipython>=6.1.0->ipywidgets>=7.6) (0.2.3)\n",
      "Requirement already satisfied: webencodings in c:\\users\\ali\\appdata\\roaming\\python\\python312\\site-packages (from bleach!=5.0.0->bleach[css]!=5.0.0->nbconvert>=6.4.4->jupyter-server<3,>=2.4.0->jupyterlab) (0.5.1)\n",
      "Requirement already satisfied: tinycss2<1.5,>=1.1.0 in c:\\users\\ali\\appdata\\roaming\\python\\python312\\site-packages (from bleach[css]!=5.0.0->nbconvert>=6.4.4->jupyter-server<3,>=2.4.0->jupyterlab) (1.4.0)\n",
      "Requirement already satisfied: fqdn in c:\\users\\ali\\appdata\\roaming\\python\\python312\\site-packages (from jsonschema[format-nongpl]>=4.18.0->jupyter-events>=0.11.0->jupyter-server<3,>=2.4.0->jupyterlab) (1.5.1)\n",
      "Requirement already satisfied: isoduration in c:\\users\\ali\\appdata\\roaming\\python\\python312\\site-packages (from jsonschema[format-nongpl]>=4.18.0->jupyter-events>=0.11.0->jupyter-server<3,>=2.4.0->jupyterlab) (20.11.0)\n",
      "Requirement already satisfied: jsonpointer>1.13 in c:\\users\\ali\\appdata\\roaming\\python\\python312\\site-packages (from jsonschema[format-nongpl]>=4.18.0->jupyter-events>=0.11.0->jupyter-server<3,>=2.4.0->jupyterlab) (3.0.0)\n",
      "Requirement already satisfied: uri-template in c:\\users\\ali\\appdata\\roaming\\python\\python312\\site-packages (from jsonschema[format-nongpl]>=4.18.0->jupyter-events>=0.11.0->jupyter-server<3,>=2.4.0->jupyterlab) (1.3.0)\n",
      "Requirement already satisfied: webcolors>=24.6.0 in c:\\users\\ali\\appdata\\roaming\\python\\python312\\site-packages (from jsonschema[format-nongpl]>=4.18.0->jupyter-events>=0.11.0->jupyter-server<3,>=2.4.0->jupyterlab) (24.11.1)\n",
      "Requirement already satisfied: six>=1.5 in c:\\users\\ali\\appdata\\roaming\\python\\python312\\site-packages (from python-dateutil>=2.8.2->jupyter-client>=6.1.12->ipykernel>=6.5.0->jupyterlab) (1.17.0)\n",
      "Requirement already satisfied: cffi>=1.0.1 in c:\\users\\ali\\appdata\\roaming\\python\\python312\\site-packages (from argon2-cffi-bindings->argon2-cffi>=21.1->jupyter-server<3,>=2.4.0->jupyterlab) (1.17.1)\n",
      "Requirement already satisfied: soupsieve>1.2 in c:\\users\\ali\\appdata\\roaming\\python\\python312\\site-packages (from beautifulsoup4->nbconvert>=6.4.4->jupyter-server<3,>=2.4.0->jupyterlab) (2.6)\n",
      "Requirement already satisfied: pycparser in c:\\users\\ali\\appdata\\roaming\\python\\python312\\site-packages (from cffi>=1.0.1->argon2-cffi-bindings->argon2-cffi>=21.1->jupyter-server<3,>=2.4.0->jupyterlab) (2.22)\n",
      "Requirement already satisfied: arrow>=0.15.0 in c:\\users\\ali\\appdata\\roaming\\python\\python312\\site-packages (from isoduration->jsonschema[format-nongpl]>=4.18.0->jupyter-events>=0.11.0->jupyter-server<3,>=2.4.0->jupyterlab) (1.3.0)\n",
      "Requirement already satisfied: types-python-dateutil>=2.8.10 in c:\\users\\ali\\appdata\\roaming\\python\\python312\\site-packages (from arrow>=0.15.0->isoduration->jsonschema[format-nongpl]>=4.18.0->jupyter-events>=0.11.0->jupyter-server<3,>=2.4.0->jupyterlab) (2.9.0.20241206)\n"
     ]
    },
    {
     "name": "stderr",
     "output_type": "stream",
     "text": [
      "\n",
      "[notice] A new release of pip is available: 24.2 -> 25.2\n",
      "[notice] To update, run: python.exe -m pip install --upgrade pip\n"
     ]
    }
   ],
   "source": [
    "!pip install jupyterlab \"plotly>=5\" \"ipywidgets>=7.6\"\n"
   ]
  },
  {
   "cell_type": "code",
   "execution_count": 3,
   "metadata": {
    "id": "9zAAwPZI93G0"
   },
   "outputs": [],
   "source": [
    "from sklearn.datasets import make_regression\n",
    "import pandas as pd\n",
    "import numpy as np\n",
    "\n",
    "import plotly.express as px\n",
    "import plotly.graph_objects as go\n",
    "\n",
    "from sklearn.metrics import mean_absolute_error, mean_squared_error, r2_score"
   ]
  },
  {
   "cell_type": "markdown",
   "metadata": {
    "id": "q3C4Dj7DPU_8"
   },
   "source": [
    "# Manually create dataset with the help of **make_regression()**"
   ]
  },
  {
   "cell_type": "code",
   "execution_count": 4,
   "metadata": {
    "id": "sl5twPu0-pyQ"
   },
   "outputs": [],
   "source": [
    "x,y = make_regression(n_samples=100, n_features=2, n_informative=2, n_targets=1, noise=50)"
   ]
  },
  {
   "cell_type": "code",
   "execution_count": 5,
   "metadata": {
    "id": "akdX9bS9ATMG"
   },
   "outputs": [],
   "source": [
    "df = pd.DataFrame({'feature_1' : x[:,0], 'feature_2' : x[:, 1], 'target' : y})"
   ]
  },
  {
   "cell_type": "code",
   "execution_count": 6,
   "metadata": {
    "colab": {
     "base_uri": "https://localhost:8080/",
     "height": 206
    },
    "id": "RqaLXL6pAVL7",
    "outputId": "b1155e00-107c-4301-d1b2-5e6857216c2c"
   },
   "outputs": [
    {
     "data": {
      "text/html": [
       "<div>\n",
       "<style scoped>\n",
       "    .dataframe tbody tr th:only-of-type {\n",
       "        vertical-align: middle;\n",
       "    }\n",
       "\n",
       "    .dataframe tbody tr th {\n",
       "        vertical-align: top;\n",
       "    }\n",
       "\n",
       "    .dataframe thead th {\n",
       "        text-align: right;\n",
       "    }\n",
       "</style>\n",
       "<table border=\"1\" class=\"dataframe\">\n",
       "  <thead>\n",
       "    <tr style=\"text-align: right;\">\n",
       "      <th></th>\n",
       "      <th>feature_1</th>\n",
       "      <th>feature_2</th>\n",
       "      <th>target</th>\n",
       "    </tr>\n",
       "  </thead>\n",
       "  <tbody>\n",
       "    <tr>\n",
       "      <th>0</th>\n",
       "      <td>0.111061</td>\n",
       "      <td>-0.382541</td>\n",
       "      <td>0.174493</td>\n",
       "    </tr>\n",
       "    <tr>\n",
       "      <th>1</th>\n",
       "      <td>0.142930</td>\n",
       "      <td>0.833072</td>\n",
       "      <td>72.719793</td>\n",
       "    </tr>\n",
       "    <tr>\n",
       "      <th>2</th>\n",
       "      <td>-0.187663</td>\n",
       "      <td>-1.091063</td>\n",
       "      <td>-41.386490</td>\n",
       "    </tr>\n",
       "    <tr>\n",
       "      <th>3</th>\n",
       "      <td>0.285703</td>\n",
       "      <td>1.444288</td>\n",
       "      <td>34.995155</td>\n",
       "    </tr>\n",
       "    <tr>\n",
       "      <th>4</th>\n",
       "      <td>-1.558367</td>\n",
       "      <td>0.314173</td>\n",
       "      <td>-42.657423</td>\n",
       "    </tr>\n",
       "  </tbody>\n",
       "</table>\n",
       "</div>"
      ],
      "text/plain": [
       "   feature_1  feature_2     target\n",
       "0   0.111061  -0.382541   0.174493\n",
       "1   0.142930   0.833072  72.719793\n",
       "2  -0.187663  -1.091063 -41.386490\n",
       "3   0.285703   1.444288  34.995155\n",
       "4  -1.558367   0.314173 -42.657423"
      ]
     },
     "execution_count": 6,
     "metadata": {},
     "output_type": "execute_result"
    }
   ],
   "source": [
    "df.head()"
   ]
  },
  {
   "cell_type": "markdown",
   "metadata": {
    "id": "aQ6ytQG6Pqbr"
   },
   "source": [
    "plot 3d graph"
   ]
  },
  {
   "cell_type": "code",
   "execution_count": 18,
   "metadata": {
    "colab": {
     "base_uri": "https://localhost:8080/",
     "height": 542
    },
    "id": "JGIzE7D2BsfL",
    "outputId": "ed136c74-8915-47b4-ae14-bb5b37f46e01"
   },
   "outputs": [
    {
     "data": {
      "application/vnd.plotly.v1+json": {
       "config": {
        "plotlyServerURL": "https://plot.ly"
       },
       "data": [
        {
         "hovertemplate": "feature_1=%{x}<br>feature_2=%{y}<br>target=%{z}<extra></extra>",
         "legendgroup": "",
         "marker": {
          "color": "#636efa",
          "symbol": "circle"
         },
         "mode": "markers",
         "name": "",
         "scene": "scene",
         "showlegend": false,
         "type": "scatter3d",
         "x": {
          "bdata": "16C5hH5uvD/wZumZhUvCPy80T99TBci/9t5wWvNI0j9PJnfzEe/4v9HRx7XbLd2//nOGhdwLdz8jxvNywoe8PzHlQnqP9+6/eFfVyRlyZT/ypVoToMTZv8pLmHvqWtY/GIi6Z21e8L+b1ubg2hDoP6hYspFL9uQ/RTPXWSJj4z+ohXUi2aXFv2JvpXBi4ru/5E6Kkyjo4T9bNkh/ma3jP4xJeMII6+u/MOdVREOz4r+aeQSBXrvLP7C0dvGXiPM/2MEc3r7q9D+Bsr+FN9uwvwBC+9YJzu0/GvXVpxFU+L/ONeoEBFr/v3X7JzArGuU/HJK6Zude1D9MheFid5fav178kjmhXbu/xKAH161f5j8FtjCJSqvpv5xmIhXU1+k/eyQfOLcKBUAHH/CNzmHXP5MOJmnAd8M/4GgS/Q9Z9r9g0eQAhLbrPxiKC/FhxNu/0WRXZDUt7b8n4Jm6BqnxvyXqe1DjfAXA+5ym+W6J9T+MzCOZqVvnP9acryI1/NU/kAhEdi4y5z8vd9dwEVjgvxZMc4uaRNc/OdYx8IsYAkDHrXDQcUbcPzSmVSm4jMU/UadfbM3r1b9Rayk6Su7tP3bNaISCUOY/WCXFI7Nx8r8i+VC6wejyP7Dbkz8i1cS/ojkCRdckAUBxinIs5yvEP49cIiElUvG/BBM5IXKC9T+VoI9YLADsP7e+mD7C6+Q/O8Ywwtj8/D+9XGgWwfjiP5aQozPs6es/0XTnUJnM8D+88Wu1TMrSPxSK5OBwfsc/ro/0/pYa8b8MetHBVFLpv+QlmqswWs6/viDECkPD0j+wRtlxevr1P0HNkL3WW/C/5X1ZB+Fo5D/nnO4GBBzxv7NLUDQ8Tda/ujxROou+yr/TgnNw/EXuv54sP1jcQMm/Kqee9diMtT8sHAAirsDUP6rZGixleeC/h9lSr+SS6L8IMCDLAwz0vyR93duZyfG/QdCWWa940L/caCK6dmHYP8eFMC+Nd/8/ivmFDURpcb/3dK7U8RHyv646IbPtuMu/u/GKXGc36j9WGPMaTIj0P3PjuaCcy/I/3TWcPoqm6r8=",
          "dtype": "f8"
         },
         "y": {
          "bdata": "P/9yxIt72L9VSRKzhajqP8VQg9L+dPG/Dzcegs0b9z9dfw2waBvUP4jayc707Pm/GgvkQrFb5z+gwGIFNEzcv0XbtbY6Ee6/N6n7oFFM2z80MO3HXD/TP88l3LXSa86/emWBUpiP67+OlDZiytPpvxDGOSIfHfY/+BeMbh/Zzr8eKP6+rkcAwJb7ugNOffY/3YJwTXbn5j8db060a/H2v2CuCNwSlABA7KrMfnmc47+UerTUx5bsv/r7IP5/89S//O5yQt7j6D9unCrAqEbVP4Sg8hj6ppu/l82OTTZYCMBvYmMqBOP/v/gqIHvjcO8/TaPTlSLi6r8/fKrsQVPEPzRJF1qxnts/eK1eznDb0j9frxrOsJDtvyaUddnQGPW/bhpVvV7W5b+X+NnPunrjP6MCn70YydM/hERePWFG8r9t6JkRMCzxPzHilbIiF+o/Me376LEiwD+jwiSa5+HcP41JK9fW3PA/WSt4QWRa5r9hh+AsgiHkP8qEDWYaiNg/iP2nO25g5D+4ojdfNLfvv7X52z0qCOK/5eq+K2EO+D85NRH9pTHav8QZxHsr1f2/TS5UJoF89D+7XbtjZmHzv3Qws2RwJwDALrltfh+Xw78VSmapZvHrP+HExHbmI9S/Q/XfYujs8L8jGUSjuI3xvyI4HHfGg/6/PcR1UWjJAMDcfx61in3gP/gGKgLcd+Q/tPxhE4E3wT8YkRn0u3vvvzY0f5DNEfq/dhsd0cmN1D/6YGXvkybwv4Kar1oBiNw/C9JHp/z007+k6aufVZDsP42wf5pfbtS/1TkWK6EowD+0TWtttufgPx04H/cj5Pu/+muu3f14zj89s1xG0Kz7P1gHzSCdPMo/JLDdimMW2z/qbL2PVpT0P7utZ8anAQVARMpri81D9z+U1AHNubHSvzwmrSnsmf6/Qfwz3DmW+b8OgQYh3GTeP+GSTRVgKeS/0cEhDZi14r9++0WWOabsP2fX9P9nx8+/fZBFEcXc+L/aj5uEQJTkvwzdanuBI8o/LP8ohSk/8b9Z4vZK7sL9P48ArEx2XgRACgLfIysg378=",
          "dtype": "f8"
         },
         "z": {
          "bdata": "AJbyHchVxj8GrmYXES5SQInCyIF4sUTAacFqOmF/QUCbsadvJlRFwL4ygk2BhFPAT3Zs77eCUEDi3Q2dG102wGBhcu27ZSRAs5lmeNqNQ8AL8v4/Jh5HwDfi+w3C5UJARnVv5WxOUsAhEG7Q5IRRQCBFyL1ZUFxAJv2qj6SJSkCyQ/9VdiJdwG7HoxFAeiZA62FMRfxjN0BUph13ZeowwCCi0SXX41lAPfDtifdFT0DAWS8YknBFQJbJaLB2gjzASrMSb+4hMsA97FekWc1FQLDC99MJLE/AYwdITsCEX8DP+YJ7v21awEb9Rr/0cjLAIK/zj+Ij5T9BXpBLN0BXQEXKnmPBMU3ARPSK7PrgUkAc6wlSRRRHQD5x8QXPMlXAnHal5M1NCkDQOHfD14z7v9SSis26EE5AAB0PQScH979sh3Qp869YwN4bGrGASlRAQwOZyrsiM0CZ0B9EZ31TwJWvFvl6g0BAKphtS2sGN8BahJ6ZEm9TwICj3pKRrRtA3fHadTu6K0BO8Z/uIhc7QG+G1yg6b1DAsjZoBmx9ZkDJHLEoN3M2wLYZjdQ7UjLAi3vipXFlMEAR0HFqblxawM/Jq4toIFPAQOQfdJCa3z+AanRNNcTYv0BprF1kokDAswjblU8pRcCi0A6JGEtAwPzoMVXaISjA+nFki4WcYcDgJza0WrVRwEqQB6MNt0/AIBsH5NQyEcCdXjL4K+xVwAQAzcweDC3AGzestFt0M8Ajzqxwttw2QLArVA3HM1ZAkKIT4ZxD8L/59jRxORUzQKJbTOfyDTTA2jhHHzm7UECMT1DSTFxaQGy0vyKgjTVAenvYB9PZMUAq/bFf5iZEQN+o8BUhs01A6B2w0YK4VUDRWxB2PmdXQFMQJdzUhlxAEK1Dfa6aS0DwNd4t0fgXwOAsf3ZYPAxA+stl248/R8ADEgdEPwZawNaFuPDyUEvA4hmjIbo5T0DwLweAPSBQQA3Q/L7CmCJAXU8bxBFQNcDUoPs3LSlWwDiHcMfXZ0RAWmVKKsOmT8DwnsZy7aQYwEDNpHV4V2NA6Fdon4sREEA=",
          "dtype": "f8"
         }
        }
       ],
       "layout": {
        "legend": {
         "tracegroupgap": 0
        },
        "scene": {
         "domain": {
          "x": [
           0,
           1
          ],
          "y": [
           0,
           1
          ]
         },
         "xaxis": {
          "title": {
           "text": "feature_1"
          }
         },
         "yaxis": {
          "title": {
           "text": "feature_2"
          }
         },
         "zaxis": {
          "title": {
           "text": "target"
          }
         }
        },
        "template": {
         "data": {
          "bar": [
           {
            "error_x": {
             "color": "#2a3f5f"
            },
            "error_y": {
             "color": "#2a3f5f"
            },
            "marker": {
             "line": {
              "color": "#E5ECF6",
              "width": 0.5
             },
             "pattern": {
              "fillmode": "overlay",
              "size": 10,
              "solidity": 0.2
             }
            },
            "type": "bar"
           }
          ],
          "barpolar": [
           {
            "marker": {
             "line": {
              "color": "#E5ECF6",
              "width": 0.5
             },
             "pattern": {
              "fillmode": "overlay",
              "size": 10,
              "solidity": 0.2
             }
            },
            "type": "barpolar"
           }
          ],
          "carpet": [
           {
            "aaxis": {
             "endlinecolor": "#2a3f5f",
             "gridcolor": "white",
             "linecolor": "white",
             "minorgridcolor": "white",
             "startlinecolor": "#2a3f5f"
            },
            "baxis": {
             "endlinecolor": "#2a3f5f",
             "gridcolor": "white",
             "linecolor": "white",
             "minorgridcolor": "white",
             "startlinecolor": "#2a3f5f"
            },
            "type": "carpet"
           }
          ],
          "choropleth": [
           {
            "colorbar": {
             "outlinewidth": 0,
             "ticks": ""
            },
            "type": "choropleth"
           }
          ],
          "contour": [
           {
            "colorbar": {
             "outlinewidth": 0,
             "ticks": ""
            },
            "colorscale": [
             [
              0,
              "#0d0887"
             ],
             [
              0.1111111111111111,
              "#46039f"
             ],
             [
              0.2222222222222222,
              "#7201a8"
             ],
             [
              0.3333333333333333,
              "#9c179e"
             ],
             [
              0.4444444444444444,
              "#bd3786"
             ],
             [
              0.5555555555555556,
              "#d8576b"
             ],
             [
              0.6666666666666666,
              "#ed7953"
             ],
             [
              0.7777777777777778,
              "#fb9f3a"
             ],
             [
              0.8888888888888888,
              "#fdca26"
             ],
             [
              1,
              "#f0f921"
             ]
            ],
            "type": "contour"
           }
          ],
          "contourcarpet": [
           {
            "colorbar": {
             "outlinewidth": 0,
             "ticks": ""
            },
            "type": "contourcarpet"
           }
          ],
          "heatmap": [
           {
            "colorbar": {
             "outlinewidth": 0,
             "ticks": ""
            },
            "colorscale": [
             [
              0,
              "#0d0887"
             ],
             [
              0.1111111111111111,
              "#46039f"
             ],
             [
              0.2222222222222222,
              "#7201a8"
             ],
             [
              0.3333333333333333,
              "#9c179e"
             ],
             [
              0.4444444444444444,
              "#bd3786"
             ],
             [
              0.5555555555555556,
              "#d8576b"
             ],
             [
              0.6666666666666666,
              "#ed7953"
             ],
             [
              0.7777777777777778,
              "#fb9f3a"
             ],
             [
              0.8888888888888888,
              "#fdca26"
             ],
             [
              1,
              "#f0f921"
             ]
            ],
            "type": "heatmap"
           }
          ],
          "histogram": [
           {
            "marker": {
             "pattern": {
              "fillmode": "overlay",
              "size": 10,
              "solidity": 0.2
             }
            },
            "type": "histogram"
           }
          ],
          "histogram2d": [
           {
            "colorbar": {
             "outlinewidth": 0,
             "ticks": ""
            },
            "colorscale": [
             [
              0,
              "#0d0887"
             ],
             [
              0.1111111111111111,
              "#46039f"
             ],
             [
              0.2222222222222222,
              "#7201a8"
             ],
             [
              0.3333333333333333,
              "#9c179e"
             ],
             [
              0.4444444444444444,
              "#bd3786"
             ],
             [
              0.5555555555555556,
              "#d8576b"
             ],
             [
              0.6666666666666666,
              "#ed7953"
             ],
             [
              0.7777777777777778,
              "#fb9f3a"
             ],
             [
              0.8888888888888888,
              "#fdca26"
             ],
             [
              1,
              "#f0f921"
             ]
            ],
            "type": "histogram2d"
           }
          ],
          "histogram2dcontour": [
           {
            "colorbar": {
             "outlinewidth": 0,
             "ticks": ""
            },
            "colorscale": [
             [
              0,
              "#0d0887"
             ],
             [
              0.1111111111111111,
              "#46039f"
             ],
             [
              0.2222222222222222,
              "#7201a8"
             ],
             [
              0.3333333333333333,
              "#9c179e"
             ],
             [
              0.4444444444444444,
              "#bd3786"
             ],
             [
              0.5555555555555556,
              "#d8576b"
             ],
             [
              0.6666666666666666,
              "#ed7953"
             ],
             [
              0.7777777777777778,
              "#fb9f3a"
             ],
             [
              0.8888888888888888,
              "#fdca26"
             ],
             [
              1,
              "#f0f921"
             ]
            ],
            "type": "histogram2dcontour"
           }
          ],
          "mesh3d": [
           {
            "colorbar": {
             "outlinewidth": 0,
             "ticks": ""
            },
            "type": "mesh3d"
           }
          ],
          "parcoords": [
           {
            "line": {
             "colorbar": {
              "outlinewidth": 0,
              "ticks": ""
             }
            },
            "type": "parcoords"
           }
          ],
          "pie": [
           {
            "automargin": true,
            "type": "pie"
           }
          ],
          "scatter": [
           {
            "fillpattern": {
             "fillmode": "overlay",
             "size": 10,
             "solidity": 0.2
            },
            "type": "scatter"
           }
          ],
          "scatter3d": [
           {
            "line": {
             "colorbar": {
              "outlinewidth": 0,
              "ticks": ""
             }
            },
            "marker": {
             "colorbar": {
              "outlinewidth": 0,
              "ticks": ""
             }
            },
            "type": "scatter3d"
           }
          ],
          "scattercarpet": [
           {
            "marker": {
             "colorbar": {
              "outlinewidth": 0,
              "ticks": ""
             }
            },
            "type": "scattercarpet"
           }
          ],
          "scattergeo": [
           {
            "marker": {
             "colorbar": {
              "outlinewidth": 0,
              "ticks": ""
             }
            },
            "type": "scattergeo"
           }
          ],
          "scattergl": [
           {
            "marker": {
             "colorbar": {
              "outlinewidth": 0,
              "ticks": ""
             }
            },
            "type": "scattergl"
           }
          ],
          "scattermap": [
           {
            "marker": {
             "colorbar": {
              "outlinewidth": 0,
              "ticks": ""
             }
            },
            "type": "scattermap"
           }
          ],
          "scattermapbox": [
           {
            "marker": {
             "colorbar": {
              "outlinewidth": 0,
              "ticks": ""
             }
            },
            "type": "scattermapbox"
           }
          ],
          "scatterpolar": [
           {
            "marker": {
             "colorbar": {
              "outlinewidth": 0,
              "ticks": ""
             }
            },
            "type": "scatterpolar"
           }
          ],
          "scatterpolargl": [
           {
            "marker": {
             "colorbar": {
              "outlinewidth": 0,
              "ticks": ""
             }
            },
            "type": "scatterpolargl"
           }
          ],
          "scatterternary": [
           {
            "marker": {
             "colorbar": {
              "outlinewidth": 0,
              "ticks": ""
             }
            },
            "type": "scatterternary"
           }
          ],
          "surface": [
           {
            "colorbar": {
             "outlinewidth": 0,
             "ticks": ""
            },
            "colorscale": [
             [
              0,
              "#0d0887"
             ],
             [
              0.1111111111111111,
              "#46039f"
             ],
             [
              0.2222222222222222,
              "#7201a8"
             ],
             [
              0.3333333333333333,
              "#9c179e"
             ],
             [
              0.4444444444444444,
              "#bd3786"
             ],
             [
              0.5555555555555556,
              "#d8576b"
             ],
             [
              0.6666666666666666,
              "#ed7953"
             ],
             [
              0.7777777777777778,
              "#fb9f3a"
             ],
             [
              0.8888888888888888,
              "#fdca26"
             ],
             [
              1,
              "#f0f921"
             ]
            ],
            "type": "surface"
           }
          ],
          "table": [
           {
            "cells": {
             "fill": {
              "color": "#EBF0F8"
             },
             "line": {
              "color": "white"
             }
            },
            "header": {
             "fill": {
              "color": "#C8D4E3"
             },
             "line": {
              "color": "white"
             }
            },
            "type": "table"
           }
          ]
         },
         "layout": {
          "annotationdefaults": {
           "arrowcolor": "#2a3f5f",
           "arrowhead": 0,
           "arrowwidth": 1
          },
          "autotypenumbers": "strict",
          "coloraxis": {
           "colorbar": {
            "outlinewidth": 0,
            "ticks": ""
           }
          },
          "colorscale": {
           "diverging": [
            [
             0,
             "#8e0152"
            ],
            [
             0.1,
             "#c51b7d"
            ],
            [
             0.2,
             "#de77ae"
            ],
            [
             0.3,
             "#f1b6da"
            ],
            [
             0.4,
             "#fde0ef"
            ],
            [
             0.5,
             "#f7f7f7"
            ],
            [
             0.6,
             "#e6f5d0"
            ],
            [
             0.7,
             "#b8e186"
            ],
            [
             0.8,
             "#7fbc41"
            ],
            [
             0.9,
             "#4d9221"
            ],
            [
             1,
             "#276419"
            ]
           ],
           "sequential": [
            [
             0,
             "#0d0887"
            ],
            [
             0.1111111111111111,
             "#46039f"
            ],
            [
             0.2222222222222222,
             "#7201a8"
            ],
            [
             0.3333333333333333,
             "#9c179e"
            ],
            [
             0.4444444444444444,
             "#bd3786"
            ],
            [
             0.5555555555555556,
             "#d8576b"
            ],
            [
             0.6666666666666666,
             "#ed7953"
            ],
            [
             0.7777777777777778,
             "#fb9f3a"
            ],
            [
             0.8888888888888888,
             "#fdca26"
            ],
            [
             1,
             "#f0f921"
            ]
           ],
           "sequentialminus": [
            [
             0,
             "#0d0887"
            ],
            [
             0.1111111111111111,
             "#46039f"
            ],
            [
             0.2222222222222222,
             "#7201a8"
            ],
            [
             0.3333333333333333,
             "#9c179e"
            ],
            [
             0.4444444444444444,
             "#bd3786"
            ],
            [
             0.5555555555555556,
             "#d8576b"
            ],
            [
             0.6666666666666666,
             "#ed7953"
            ],
            [
             0.7777777777777778,
             "#fb9f3a"
            ],
            [
             0.8888888888888888,
             "#fdca26"
            ],
            [
             1,
             "#f0f921"
            ]
           ]
          },
          "colorway": [
           "#636efa",
           "#EF553B",
           "#00cc96",
           "#ab63fa",
           "#FFA15A",
           "#19d3f3",
           "#FF6692",
           "#B6E880",
           "#FF97FF",
           "#FECB52"
          ],
          "font": {
           "color": "#2a3f5f"
          },
          "geo": {
           "bgcolor": "white",
           "lakecolor": "white",
           "landcolor": "#E5ECF6",
           "showlakes": true,
           "showland": true,
           "subunitcolor": "white"
          },
          "hoverlabel": {
           "align": "left"
          },
          "hovermode": "closest",
          "mapbox": {
           "style": "light"
          },
          "paper_bgcolor": "white",
          "plot_bgcolor": "#E5ECF6",
          "polar": {
           "angularaxis": {
            "gridcolor": "white",
            "linecolor": "white",
            "ticks": ""
           },
           "bgcolor": "#E5ECF6",
           "radialaxis": {
            "gridcolor": "white",
            "linecolor": "white",
            "ticks": ""
           }
          },
          "scene": {
           "xaxis": {
            "backgroundcolor": "#E5ECF6",
            "gridcolor": "white",
            "gridwidth": 2,
            "linecolor": "white",
            "showbackground": true,
            "ticks": "",
            "zerolinecolor": "white"
           },
           "yaxis": {
            "backgroundcolor": "#E5ECF6",
            "gridcolor": "white",
            "gridwidth": 2,
            "linecolor": "white",
            "showbackground": true,
            "ticks": "",
            "zerolinecolor": "white"
           },
           "zaxis": {
            "backgroundcolor": "#E5ECF6",
            "gridcolor": "white",
            "gridwidth": 2,
            "linecolor": "white",
            "showbackground": true,
            "ticks": "",
            "zerolinecolor": "white"
           }
          },
          "shapedefaults": {
           "line": {
            "color": "#2a3f5f"
           }
          },
          "ternary": {
           "aaxis": {
            "gridcolor": "white",
            "linecolor": "white",
            "ticks": ""
           },
           "baxis": {
            "gridcolor": "white",
            "linecolor": "white",
            "ticks": ""
           },
           "bgcolor": "#E5ECF6",
           "caxis": {
            "gridcolor": "white",
            "linecolor": "white",
            "ticks": ""
           }
          },
          "title": {
           "x": 0.05
          },
          "xaxis": {
           "automargin": true,
           "gridcolor": "white",
           "linecolor": "white",
           "ticks": "",
           "title": {
            "standoff": 15
           },
           "zerolinecolor": "white",
           "zerolinewidth": 2
          },
          "yaxis": {
           "automargin": true,
           "gridcolor": "white",
           "linecolor": "white",
           "ticks": "",
           "title": {
            "standoff": 15
           },
           "zerolinecolor": "white",
           "zerolinewidth": 2
          }
         }
        },
        "title": {
         "text": "Regression Dataset"
        }
       }
      }
     },
     "metadata": {},
     "output_type": "display_data"
    }
   ],
   "source": [
    "fig = px.scatter_3d(df, x='feature_1', y='feature_2', z='target', title='Regression Dataset')\n",
    "fig.show()"
   ]
  },
  {
   "cell_type": "code",
   "execution_count": 8,
   "metadata": {
    "id": "aCYg_Sz7DrEk"
   },
   "outputs": [],
   "source": [
    "from sklearn.model_selection import train_test_split\n",
    "x_train, x_test, y_train, y_test = train_test_split(x, y, test_size=0.2, random_state=2)"
   ]
  },
  {
   "cell_type": "code",
   "execution_count": 9,
   "metadata": {
    "id": "D9eAfEobFbaD"
   },
   "outputs": [],
   "source": [
    "from sklearn.linear_model import LinearRegression"
   ]
  },
  {
   "cell_type": "code",
   "execution_count": 10,
   "metadata": {
    "id": "lSvJTqiyFmdk"
   },
   "outputs": [],
   "source": [
    "lr = LinearRegression()"
   ]
  },
  {
   "cell_type": "code",
   "execution_count": 11,
   "metadata": {
    "colab": {
     "base_uri": "https://localhost:8080/",
     "height": 80
    },
    "id": "Ubu_qkI4FqJa",
    "outputId": "1c7a01ac-20aa-4a2a-eca0-c11ddea7284e"
   },
   "outputs": [
    {
     "data": {
      "text/html": [
       "<style>#sk-container-id-1 {\n",
       "  /* Definition of color scheme common for light and dark mode */\n",
       "  --sklearn-color-text: #000;\n",
       "  --sklearn-color-text-muted: #666;\n",
       "  --sklearn-color-line: gray;\n",
       "  /* Definition of color scheme for unfitted estimators */\n",
       "  --sklearn-color-unfitted-level-0: #fff5e6;\n",
       "  --sklearn-color-unfitted-level-1: #f6e4d2;\n",
       "  --sklearn-color-unfitted-level-2: #ffe0b3;\n",
       "  --sklearn-color-unfitted-level-3: chocolate;\n",
       "  /* Definition of color scheme for fitted estimators */\n",
       "  --sklearn-color-fitted-level-0: #f0f8ff;\n",
       "  --sklearn-color-fitted-level-1: #d4ebff;\n",
       "  --sklearn-color-fitted-level-2: #b3dbfd;\n",
       "  --sklearn-color-fitted-level-3: cornflowerblue;\n",
       "\n",
       "  /* Specific color for light theme */\n",
       "  --sklearn-color-text-on-default-background: var(--sg-text-color, var(--theme-code-foreground, var(--jp-content-font-color1, black)));\n",
       "  --sklearn-color-background: var(--sg-background-color, var(--theme-background, var(--jp-layout-color0, white)));\n",
       "  --sklearn-color-border-box: var(--sg-text-color, var(--theme-code-foreground, var(--jp-content-font-color1, black)));\n",
       "  --sklearn-color-icon: #696969;\n",
       "\n",
       "  @media (prefers-color-scheme: dark) {\n",
       "    /* Redefinition of color scheme for dark theme */\n",
       "    --sklearn-color-text-on-default-background: var(--sg-text-color, var(--theme-code-foreground, var(--jp-content-font-color1, white)));\n",
       "    --sklearn-color-background: var(--sg-background-color, var(--theme-background, var(--jp-layout-color0, #111)));\n",
       "    --sklearn-color-border-box: var(--sg-text-color, var(--theme-code-foreground, var(--jp-content-font-color1, white)));\n",
       "    --sklearn-color-icon: #878787;\n",
       "  }\n",
       "}\n",
       "\n",
       "#sk-container-id-1 {\n",
       "  color: var(--sklearn-color-text);\n",
       "}\n",
       "\n",
       "#sk-container-id-1 pre {\n",
       "  padding: 0;\n",
       "}\n",
       "\n",
       "#sk-container-id-1 input.sk-hidden--visually {\n",
       "  border: 0;\n",
       "  clip: rect(1px 1px 1px 1px);\n",
       "  clip: rect(1px, 1px, 1px, 1px);\n",
       "  height: 1px;\n",
       "  margin: -1px;\n",
       "  overflow: hidden;\n",
       "  padding: 0;\n",
       "  position: absolute;\n",
       "  width: 1px;\n",
       "}\n",
       "\n",
       "#sk-container-id-1 div.sk-dashed-wrapped {\n",
       "  border: 1px dashed var(--sklearn-color-line);\n",
       "  margin: 0 0.4em 0.5em 0.4em;\n",
       "  box-sizing: border-box;\n",
       "  padding-bottom: 0.4em;\n",
       "  background-color: var(--sklearn-color-background);\n",
       "}\n",
       "\n",
       "#sk-container-id-1 div.sk-container {\n",
       "  /* jupyter's `normalize.less` sets `[hidden] { display: none; }`\n",
       "     but bootstrap.min.css set `[hidden] { display: none !important; }`\n",
       "     so we also need the `!important` here to be able to override the\n",
       "     default hidden behavior on the sphinx rendered scikit-learn.org.\n",
       "     See: https://github.com/scikit-learn/scikit-learn/issues/21755 */\n",
       "  display: inline-block !important;\n",
       "  position: relative;\n",
       "}\n",
       "\n",
       "#sk-container-id-1 div.sk-text-repr-fallback {\n",
       "  display: none;\n",
       "}\n",
       "\n",
       "div.sk-parallel-item,\n",
       "div.sk-serial,\n",
       "div.sk-item {\n",
       "  /* draw centered vertical line to link estimators */\n",
       "  background-image: linear-gradient(var(--sklearn-color-text-on-default-background), var(--sklearn-color-text-on-default-background));\n",
       "  background-size: 2px 100%;\n",
       "  background-repeat: no-repeat;\n",
       "  background-position: center center;\n",
       "}\n",
       "\n",
       "/* Parallel-specific style estimator block */\n",
       "\n",
       "#sk-container-id-1 div.sk-parallel-item::after {\n",
       "  content: \"\";\n",
       "  width: 100%;\n",
       "  border-bottom: 2px solid var(--sklearn-color-text-on-default-background);\n",
       "  flex-grow: 1;\n",
       "}\n",
       "\n",
       "#sk-container-id-1 div.sk-parallel {\n",
       "  display: flex;\n",
       "  align-items: stretch;\n",
       "  justify-content: center;\n",
       "  background-color: var(--sklearn-color-background);\n",
       "  position: relative;\n",
       "}\n",
       "\n",
       "#sk-container-id-1 div.sk-parallel-item {\n",
       "  display: flex;\n",
       "  flex-direction: column;\n",
       "}\n",
       "\n",
       "#sk-container-id-1 div.sk-parallel-item:first-child::after {\n",
       "  align-self: flex-end;\n",
       "  width: 50%;\n",
       "}\n",
       "\n",
       "#sk-container-id-1 div.sk-parallel-item:last-child::after {\n",
       "  align-self: flex-start;\n",
       "  width: 50%;\n",
       "}\n",
       "\n",
       "#sk-container-id-1 div.sk-parallel-item:only-child::after {\n",
       "  width: 0;\n",
       "}\n",
       "\n",
       "/* Serial-specific style estimator block */\n",
       "\n",
       "#sk-container-id-1 div.sk-serial {\n",
       "  display: flex;\n",
       "  flex-direction: column;\n",
       "  align-items: center;\n",
       "  background-color: var(--sklearn-color-background);\n",
       "  padding-right: 1em;\n",
       "  padding-left: 1em;\n",
       "}\n",
       "\n",
       "\n",
       "/* Toggleable style: style used for estimator/Pipeline/ColumnTransformer box that is\n",
       "clickable and can be expanded/collapsed.\n",
       "- Pipeline and ColumnTransformer use this feature and define the default style\n",
       "- Estimators will overwrite some part of the style using the `sk-estimator` class\n",
       "*/\n",
       "\n",
       "/* Pipeline and ColumnTransformer style (default) */\n",
       "\n",
       "#sk-container-id-1 div.sk-toggleable {\n",
       "  /* Default theme specific background. It is overwritten whether we have a\n",
       "  specific estimator or a Pipeline/ColumnTransformer */\n",
       "  background-color: var(--sklearn-color-background);\n",
       "}\n",
       "\n",
       "/* Toggleable label */\n",
       "#sk-container-id-1 label.sk-toggleable__label {\n",
       "  cursor: pointer;\n",
       "  display: flex;\n",
       "  width: 100%;\n",
       "  margin-bottom: 0;\n",
       "  padding: 0.5em;\n",
       "  box-sizing: border-box;\n",
       "  text-align: center;\n",
       "  align-items: start;\n",
       "  justify-content: space-between;\n",
       "  gap: 0.5em;\n",
       "}\n",
       "\n",
       "#sk-container-id-1 label.sk-toggleable__label .caption {\n",
       "  font-size: 0.6rem;\n",
       "  font-weight: lighter;\n",
       "  color: var(--sklearn-color-text-muted);\n",
       "}\n",
       "\n",
       "#sk-container-id-1 label.sk-toggleable__label-arrow:before {\n",
       "  /* Arrow on the left of the label */\n",
       "  content: \"▸\";\n",
       "  float: left;\n",
       "  margin-right: 0.25em;\n",
       "  color: var(--sklearn-color-icon);\n",
       "}\n",
       "\n",
       "#sk-container-id-1 label.sk-toggleable__label-arrow:hover:before {\n",
       "  color: var(--sklearn-color-text);\n",
       "}\n",
       "\n",
       "/* Toggleable content - dropdown */\n",
       "\n",
       "#sk-container-id-1 div.sk-toggleable__content {\n",
       "  display: none;\n",
       "  text-align: left;\n",
       "  /* unfitted */\n",
       "  background-color: var(--sklearn-color-unfitted-level-0);\n",
       "}\n",
       "\n",
       "#sk-container-id-1 div.sk-toggleable__content.fitted {\n",
       "  /* fitted */\n",
       "  background-color: var(--sklearn-color-fitted-level-0);\n",
       "}\n",
       "\n",
       "#sk-container-id-1 div.sk-toggleable__content pre {\n",
       "  margin: 0.2em;\n",
       "  border-radius: 0.25em;\n",
       "  color: var(--sklearn-color-text);\n",
       "  /* unfitted */\n",
       "  background-color: var(--sklearn-color-unfitted-level-0);\n",
       "}\n",
       "\n",
       "#sk-container-id-1 div.sk-toggleable__content.fitted pre {\n",
       "  /* unfitted */\n",
       "  background-color: var(--sklearn-color-fitted-level-0);\n",
       "}\n",
       "\n",
       "#sk-container-id-1 input.sk-toggleable__control:checked~div.sk-toggleable__content {\n",
       "  /* Expand drop-down */\n",
       "  display: block;\n",
       "  width: 100%;\n",
       "  overflow: visible;\n",
       "}\n",
       "\n",
       "#sk-container-id-1 input.sk-toggleable__control:checked~label.sk-toggleable__label-arrow:before {\n",
       "  content: \"▾\";\n",
       "}\n",
       "\n",
       "/* Pipeline/ColumnTransformer-specific style */\n",
       "\n",
       "#sk-container-id-1 div.sk-label input.sk-toggleable__control:checked~label.sk-toggleable__label {\n",
       "  color: var(--sklearn-color-text);\n",
       "  background-color: var(--sklearn-color-unfitted-level-2);\n",
       "}\n",
       "\n",
       "#sk-container-id-1 div.sk-label.fitted input.sk-toggleable__control:checked~label.sk-toggleable__label {\n",
       "  background-color: var(--sklearn-color-fitted-level-2);\n",
       "}\n",
       "\n",
       "/* Estimator-specific style */\n",
       "\n",
       "/* Colorize estimator box */\n",
       "#sk-container-id-1 div.sk-estimator input.sk-toggleable__control:checked~label.sk-toggleable__label {\n",
       "  /* unfitted */\n",
       "  background-color: var(--sklearn-color-unfitted-level-2);\n",
       "}\n",
       "\n",
       "#sk-container-id-1 div.sk-estimator.fitted input.sk-toggleable__control:checked~label.sk-toggleable__label {\n",
       "  /* fitted */\n",
       "  background-color: var(--sklearn-color-fitted-level-2);\n",
       "}\n",
       "\n",
       "#sk-container-id-1 div.sk-label label.sk-toggleable__label,\n",
       "#sk-container-id-1 div.sk-label label {\n",
       "  /* The background is the default theme color */\n",
       "  color: var(--sklearn-color-text-on-default-background);\n",
       "}\n",
       "\n",
       "/* On hover, darken the color of the background */\n",
       "#sk-container-id-1 div.sk-label:hover label.sk-toggleable__label {\n",
       "  color: var(--sklearn-color-text);\n",
       "  background-color: var(--sklearn-color-unfitted-level-2);\n",
       "}\n",
       "\n",
       "/* Label box, darken color on hover, fitted */\n",
       "#sk-container-id-1 div.sk-label.fitted:hover label.sk-toggleable__label.fitted {\n",
       "  color: var(--sklearn-color-text);\n",
       "  background-color: var(--sklearn-color-fitted-level-2);\n",
       "}\n",
       "\n",
       "/* Estimator label */\n",
       "\n",
       "#sk-container-id-1 div.sk-label label {\n",
       "  font-family: monospace;\n",
       "  font-weight: bold;\n",
       "  display: inline-block;\n",
       "  line-height: 1.2em;\n",
       "}\n",
       "\n",
       "#sk-container-id-1 div.sk-label-container {\n",
       "  text-align: center;\n",
       "}\n",
       "\n",
       "/* Estimator-specific */\n",
       "#sk-container-id-1 div.sk-estimator {\n",
       "  font-family: monospace;\n",
       "  border: 1px dotted var(--sklearn-color-border-box);\n",
       "  border-radius: 0.25em;\n",
       "  box-sizing: border-box;\n",
       "  margin-bottom: 0.5em;\n",
       "  /* unfitted */\n",
       "  background-color: var(--sklearn-color-unfitted-level-0);\n",
       "}\n",
       "\n",
       "#sk-container-id-1 div.sk-estimator.fitted {\n",
       "  /* fitted */\n",
       "  background-color: var(--sklearn-color-fitted-level-0);\n",
       "}\n",
       "\n",
       "/* on hover */\n",
       "#sk-container-id-1 div.sk-estimator:hover {\n",
       "  /* unfitted */\n",
       "  background-color: var(--sklearn-color-unfitted-level-2);\n",
       "}\n",
       "\n",
       "#sk-container-id-1 div.sk-estimator.fitted:hover {\n",
       "  /* fitted */\n",
       "  background-color: var(--sklearn-color-fitted-level-2);\n",
       "}\n",
       "\n",
       "/* Specification for estimator info (e.g. \"i\" and \"?\") */\n",
       "\n",
       "/* Common style for \"i\" and \"?\" */\n",
       "\n",
       ".sk-estimator-doc-link,\n",
       "a:link.sk-estimator-doc-link,\n",
       "a:visited.sk-estimator-doc-link {\n",
       "  float: right;\n",
       "  font-size: smaller;\n",
       "  line-height: 1em;\n",
       "  font-family: monospace;\n",
       "  background-color: var(--sklearn-color-background);\n",
       "  border-radius: 1em;\n",
       "  height: 1em;\n",
       "  width: 1em;\n",
       "  text-decoration: none !important;\n",
       "  margin-left: 0.5em;\n",
       "  text-align: center;\n",
       "  /* unfitted */\n",
       "  border: var(--sklearn-color-unfitted-level-1) 1pt solid;\n",
       "  color: var(--sklearn-color-unfitted-level-1);\n",
       "}\n",
       "\n",
       ".sk-estimator-doc-link.fitted,\n",
       "a:link.sk-estimator-doc-link.fitted,\n",
       "a:visited.sk-estimator-doc-link.fitted {\n",
       "  /* fitted */\n",
       "  border: var(--sklearn-color-fitted-level-1) 1pt solid;\n",
       "  color: var(--sklearn-color-fitted-level-1);\n",
       "}\n",
       "\n",
       "/* On hover */\n",
       "div.sk-estimator:hover .sk-estimator-doc-link:hover,\n",
       ".sk-estimator-doc-link:hover,\n",
       "div.sk-label-container:hover .sk-estimator-doc-link:hover,\n",
       ".sk-estimator-doc-link:hover {\n",
       "  /* unfitted */\n",
       "  background-color: var(--sklearn-color-unfitted-level-3);\n",
       "  color: var(--sklearn-color-background);\n",
       "  text-decoration: none;\n",
       "}\n",
       "\n",
       "div.sk-estimator.fitted:hover .sk-estimator-doc-link.fitted:hover,\n",
       ".sk-estimator-doc-link.fitted:hover,\n",
       "div.sk-label-container:hover .sk-estimator-doc-link.fitted:hover,\n",
       ".sk-estimator-doc-link.fitted:hover {\n",
       "  /* fitted */\n",
       "  background-color: var(--sklearn-color-fitted-level-3);\n",
       "  color: var(--sklearn-color-background);\n",
       "  text-decoration: none;\n",
       "}\n",
       "\n",
       "/* Span, style for the box shown on hovering the info icon */\n",
       ".sk-estimator-doc-link span {\n",
       "  display: none;\n",
       "  z-index: 9999;\n",
       "  position: relative;\n",
       "  font-weight: normal;\n",
       "  right: .2ex;\n",
       "  padding: .5ex;\n",
       "  margin: .5ex;\n",
       "  width: min-content;\n",
       "  min-width: 20ex;\n",
       "  max-width: 50ex;\n",
       "  color: var(--sklearn-color-text);\n",
       "  box-shadow: 2pt 2pt 4pt #999;\n",
       "  /* unfitted */\n",
       "  background: var(--sklearn-color-unfitted-level-0);\n",
       "  border: .5pt solid var(--sklearn-color-unfitted-level-3);\n",
       "}\n",
       "\n",
       ".sk-estimator-doc-link.fitted span {\n",
       "  /* fitted */\n",
       "  background: var(--sklearn-color-fitted-level-0);\n",
       "  border: var(--sklearn-color-fitted-level-3);\n",
       "}\n",
       "\n",
       ".sk-estimator-doc-link:hover span {\n",
       "  display: block;\n",
       "}\n",
       "\n",
       "/* \"?\"-specific style due to the `<a>` HTML tag */\n",
       "\n",
       "#sk-container-id-1 a.estimator_doc_link {\n",
       "  float: right;\n",
       "  font-size: 1rem;\n",
       "  line-height: 1em;\n",
       "  font-family: monospace;\n",
       "  background-color: var(--sklearn-color-background);\n",
       "  border-radius: 1rem;\n",
       "  height: 1rem;\n",
       "  width: 1rem;\n",
       "  text-decoration: none;\n",
       "  /* unfitted */\n",
       "  color: var(--sklearn-color-unfitted-level-1);\n",
       "  border: var(--sklearn-color-unfitted-level-1) 1pt solid;\n",
       "}\n",
       "\n",
       "#sk-container-id-1 a.estimator_doc_link.fitted {\n",
       "  /* fitted */\n",
       "  border: var(--sklearn-color-fitted-level-1) 1pt solid;\n",
       "  color: var(--sklearn-color-fitted-level-1);\n",
       "}\n",
       "\n",
       "/* On hover */\n",
       "#sk-container-id-1 a.estimator_doc_link:hover {\n",
       "  /* unfitted */\n",
       "  background-color: var(--sklearn-color-unfitted-level-3);\n",
       "  color: var(--sklearn-color-background);\n",
       "  text-decoration: none;\n",
       "}\n",
       "\n",
       "#sk-container-id-1 a.estimator_doc_link.fitted:hover {\n",
       "  /* fitted */\n",
       "  background-color: var(--sklearn-color-fitted-level-3);\n",
       "}\n",
       "\n",
       ".estimator-table summary {\n",
       "    padding: .5rem;\n",
       "    font-family: monospace;\n",
       "    cursor: pointer;\n",
       "}\n",
       "\n",
       ".estimator-table details[open] {\n",
       "    padding-left: 0.1rem;\n",
       "    padding-right: 0.1rem;\n",
       "    padding-bottom: 0.3rem;\n",
       "}\n",
       "\n",
       ".estimator-table .parameters-table {\n",
       "    margin-left: auto !important;\n",
       "    margin-right: auto !important;\n",
       "}\n",
       "\n",
       ".estimator-table .parameters-table tr:nth-child(odd) {\n",
       "    background-color: #fff;\n",
       "}\n",
       "\n",
       ".estimator-table .parameters-table tr:nth-child(even) {\n",
       "    background-color: #f6f6f6;\n",
       "}\n",
       "\n",
       ".estimator-table .parameters-table tr:hover {\n",
       "    background-color: #e0e0e0;\n",
       "}\n",
       "\n",
       ".estimator-table table td {\n",
       "    border: 1px solid rgba(106, 105, 104, 0.232);\n",
       "}\n",
       "\n",
       ".user-set td {\n",
       "    color:rgb(255, 94, 0);\n",
       "    text-align: left;\n",
       "}\n",
       "\n",
       ".user-set td.value pre {\n",
       "    color:rgb(255, 94, 0) !important;\n",
       "    background-color: transparent !important;\n",
       "}\n",
       "\n",
       ".default td {\n",
       "    color: black;\n",
       "    text-align: left;\n",
       "}\n",
       "\n",
       ".user-set td i,\n",
       ".default td i {\n",
       "    color: black;\n",
       "}\n",
       "\n",
       ".copy-paste-icon {\n",
       "    background-image: url(data:image/svg+xml;base64,PHN2ZyB4bWxucz0iaHR0cDovL3d3dy53My5vcmcvMjAwMC9zdmciIHZpZXdCb3g9IjAgMCA0NDggNTEyIj48IS0tIUZvbnQgQXdlc29tZSBGcmVlIDYuNy4yIGJ5IEBmb250YXdlc29tZSAtIGh0dHBzOi8vZm9udGF3ZXNvbWUuY29tIExpY2Vuc2UgLSBodHRwczovL2ZvbnRhd2Vzb21lLmNvbS9saWNlbnNlL2ZyZWUgQ29weXJpZ2h0IDIwMjUgRm9udGljb25zLCBJbmMuLS0+PHBhdGggZD0iTTIwOCAwTDMzMi4xIDBjMTIuNyAwIDI0LjkgNS4xIDMzLjkgMTQuMWw2Ny45IDY3LjljOSA5IDE0LjEgMjEuMiAxNC4xIDMzLjlMNDQ4IDMzNmMwIDI2LjUtMjEuNSA0OC00OCA0OGwtMTkyIDBjLTI2LjUgMC00OC0yMS41LTQ4LTQ4bDAtMjg4YzAtMjYuNSAyMS41LTQ4IDQ4LTQ4ek00OCAxMjhsODAgMCAwIDY0LTY0IDAgMCAyNTYgMTkyIDAgMC0zMiA2NCAwIDAgNDhjMCAyNi41LTIxLjUgNDgtNDggNDhMNDggNTEyYy0yNi41IDAtNDgtMjEuNS00OC00OEwwIDE3NmMwLTI2LjUgMjEuNS00OCA0OC00OHoiLz48L3N2Zz4=);\n",
       "    background-repeat: no-repeat;\n",
       "    background-size: 14px 14px;\n",
       "    background-position: 0;\n",
       "    display: inline-block;\n",
       "    width: 14px;\n",
       "    height: 14px;\n",
       "    cursor: pointer;\n",
       "}\n",
       "</style><body><div id=\"sk-container-id-1\" class=\"sk-top-container\"><div class=\"sk-text-repr-fallback\"><pre>LinearRegression()</pre><b>In a Jupyter environment, please rerun this cell to show the HTML representation or trust the notebook. <br />On GitHub, the HTML representation is unable to render, please try loading this page with nbviewer.org.</b></div><div class=\"sk-container\" hidden><div class=\"sk-item\"><div class=\"sk-estimator fitted sk-toggleable\"><input class=\"sk-toggleable__control sk-hidden--visually\" id=\"sk-estimator-id-1\" type=\"checkbox\" checked><label for=\"sk-estimator-id-1\" class=\"sk-toggleable__label fitted sk-toggleable__label-arrow\"><div><div>LinearRegression</div></div><div><a class=\"sk-estimator-doc-link fitted\" rel=\"noreferrer\" target=\"_blank\" href=\"https://scikit-learn.org/1.7/modules/generated/sklearn.linear_model.LinearRegression.html\">?<span>Documentation for LinearRegression</span></a><span class=\"sk-estimator-doc-link fitted\">i<span>Fitted</span></span></div></label><div class=\"sk-toggleable__content fitted\" data-param-prefix=\"\">\n",
       "        <div class=\"estimator-table\">\n",
       "            <details>\n",
       "                <summary>Parameters</summary>\n",
       "                <table class=\"parameters-table\">\n",
       "                  <tbody>\n",
       "                    \n",
       "        <tr class=\"default\">\n",
       "            <td><i class=\"copy-paste-icon\"\n",
       "                 onclick=\"copyToClipboard('fit_intercept',\n",
       "                          this.parentElement.nextElementSibling)\"\n",
       "            ></i></td>\n",
       "            <td class=\"param\">fit_intercept&nbsp;</td>\n",
       "            <td class=\"value\">True</td>\n",
       "        </tr>\n",
       "    \n",
       "\n",
       "        <tr class=\"default\">\n",
       "            <td><i class=\"copy-paste-icon\"\n",
       "                 onclick=\"copyToClipboard('copy_X',\n",
       "                          this.parentElement.nextElementSibling)\"\n",
       "            ></i></td>\n",
       "            <td class=\"param\">copy_X&nbsp;</td>\n",
       "            <td class=\"value\">True</td>\n",
       "        </tr>\n",
       "    \n",
       "\n",
       "        <tr class=\"default\">\n",
       "            <td><i class=\"copy-paste-icon\"\n",
       "                 onclick=\"copyToClipboard('tol',\n",
       "                          this.parentElement.nextElementSibling)\"\n",
       "            ></i></td>\n",
       "            <td class=\"param\">tol&nbsp;</td>\n",
       "            <td class=\"value\">1e-06</td>\n",
       "        </tr>\n",
       "    \n",
       "\n",
       "        <tr class=\"default\">\n",
       "            <td><i class=\"copy-paste-icon\"\n",
       "                 onclick=\"copyToClipboard('n_jobs',\n",
       "                          this.parentElement.nextElementSibling)\"\n",
       "            ></i></td>\n",
       "            <td class=\"param\">n_jobs&nbsp;</td>\n",
       "            <td class=\"value\">None</td>\n",
       "        </tr>\n",
       "    \n",
       "\n",
       "        <tr class=\"default\">\n",
       "            <td><i class=\"copy-paste-icon\"\n",
       "                 onclick=\"copyToClipboard('positive',\n",
       "                          this.parentElement.nextElementSibling)\"\n",
       "            ></i></td>\n",
       "            <td class=\"param\">positive&nbsp;</td>\n",
       "            <td class=\"value\">False</td>\n",
       "        </tr>\n",
       "    \n",
       "                  </tbody>\n",
       "                </table>\n",
       "            </details>\n",
       "        </div>\n",
       "    </div></div></div></div></div><script>function copyToClipboard(text, element) {\n",
       "    // Get the parameter prefix from the closest toggleable content\n",
       "    const toggleableContent = element.closest('.sk-toggleable__content');\n",
       "    const paramPrefix = toggleableContent ? toggleableContent.dataset.paramPrefix : '';\n",
       "    const fullParamName = paramPrefix ? `${paramPrefix}${text}` : text;\n",
       "\n",
       "    const originalStyle = element.style;\n",
       "    const computedStyle = window.getComputedStyle(element);\n",
       "    const originalWidth = computedStyle.width;\n",
       "    const originalHTML = element.innerHTML.replace('Copied!', '');\n",
       "\n",
       "    navigator.clipboard.writeText(fullParamName)\n",
       "        .then(() => {\n",
       "            element.style.width = originalWidth;\n",
       "            element.style.color = 'green';\n",
       "            element.innerHTML = \"Copied!\";\n",
       "\n",
       "            setTimeout(() => {\n",
       "                element.innerHTML = originalHTML;\n",
       "                element.style = originalStyle;\n",
       "            }, 2000);\n",
       "        })\n",
       "        .catch(err => {\n",
       "            console.error('Failed to copy:', err);\n",
       "            element.style.color = 'red';\n",
       "            element.innerHTML = \"Failed!\";\n",
       "            setTimeout(() => {\n",
       "                element.innerHTML = originalHTML;\n",
       "                element.style = originalStyle;\n",
       "            }, 2000);\n",
       "        });\n",
       "    return false;\n",
       "}\n",
       "\n",
       "document.querySelectorAll('.fa-regular.fa-copy').forEach(function(element) {\n",
       "    const toggleableContent = element.closest('.sk-toggleable__content');\n",
       "    const paramPrefix = toggleableContent ? toggleableContent.dataset.paramPrefix : '';\n",
       "    const paramName = element.parentElement.nextElementSibling.textContent.trim();\n",
       "    const fullParamName = paramPrefix ? `${paramPrefix}${paramName}` : paramName;\n",
       "\n",
       "    element.setAttribute('title', fullParamName);\n",
       "});\n",
       "</script></body>"
      ],
      "text/plain": [
       "LinearRegression()"
      ]
     },
     "execution_count": 11,
     "metadata": {},
     "output_type": "execute_result"
    }
   ],
   "source": [
    "lr.fit(x_train, y_train)"
   ]
  },
  {
   "cell_type": "code",
   "execution_count": 12,
   "metadata": {
    "id": "Faf3ou2YF9Ti"
   },
   "outputs": [],
   "source": [
    "y_pred = lr.predict(x_test)"
   ]
  },
  {
   "cell_type": "code",
   "execution_count": 13,
   "metadata": {
    "colab": {
     "base_uri": "https://localhost:8080/"
    },
    "id": "cGdMklMfGJj7",
    "outputId": "dc20bc55-da85-475c-d6c5-cb822453da65"
   },
   "outputs": [
    {
     "name": "stdout",
     "output_type": "stream",
     "text": [
      "MSE  :  2225.113613320261\n",
      "MAE :  38.143310582704814\n",
      "R2 :  0.5527298485474911\n",
      "adjacent r2 :  0.5001098307295488\n"
     ]
    }
   ],
   "source": [
    "print(\"MSE  : \", mean_squared_error(y_test, y_pred))\n",
    "print(\"MAE : \", mean_absolute_error(y_test, y_pred))\n",
    "print(\"R2 : \", r2_score(y_test, y_pred))\n",
    "r2 = r2_score(y_test, y_pred)\n",
    "ad_r2 = 1 - ((1-r2) * (len(y_test) - 1)) / (len(y_test) - 1 - 2)\n",
    "print(\"adjacent r2 : \", ad_r2)"
   ]
  },
  {
   "cell_type": "markdown",
   "metadata": {
    "id": "747456c3"
   },
   "source": [
    "### Regression Evaluation Metrics\n",
    "\n",
    "Here's an explanation of the regression evaluation metrics used:\n",
    "\n",
    "*   **Mean Squared Error (MSE):**\n",
    "    *   MSE measures the average of the squared differences between the predicted and actual values.\n",
    "    *   It is calculated by taking the average of the squared errors.\n",
    "    *   MSE gives more weight to larger errors because the errors are squared.\n",
    "    *   The lower the MSE, the better the model's performance.\n",
    "\n",
    "*   **Mean Absolute Error (MAE):**\n",
    "    *   MAE measures the average of the absolute differences between the predicted and actual values.\n",
    "    *   It is calculated by taking the average of the absolute errors.\n",
    "    *   MAE is less sensitive to outliers compared to MSE because it doesn't square the errors.\n",
    "    *   The lower the MAE, the better the model's performance.\n",
    "\n",
    "*   **R-squared (R2) Score:**\n",
    "    *   R-squared, also known as the coefficient of determination, is a measure that represents the proportion of the variance in the dependent variable that is predictable from the independent variables.\n",
    "    *   It ranges from 0 to 1.\n",
    "    *   An R-squared of 1 indicates that the model explains all the variability of the target variable.\n",
    "    *   An R-squared of 0 indicates that the model explains none of the variability of the target variable.\n",
    "    *   A higher R-squared generally indicates a better fit.\n",
    "\n",
    "*   **Adjusted R-squared:**\n",
    "    *   Adjusted R-squared is a modified version of R-squared that has been adjusted for the number of predictors in the model.\n",
    "    *   It increases only if the new term improves the model more than would be expected by chance.\n",
    "    *   It is useful when comparing models with different numbers of predictors."
   ]
  },
  {
   "cell_type": "code",
   "execution_count": 16,
   "metadata": {
    "id": "LIXV9GVPHak7"
   },
   "outputs": [],
   "source": [
    "x = np.linspace(-5, 5, 10)\n",
    "y = np.linspace(-5, 5, 10)\n",
    "\n",
    "xGrid, yGrid = np.meshgrid(y,x)\n",
    "\n",
    "\n",
    "final = np.vstack((xGrid.ravel().reshape(1,100),yGrid.ravel().reshape(1,100))).T\n",
    "\n",
    "z_final = lr.predict(final).reshape(10,10)\n",
    "\n",
    "z = z_final\n",
    "\n"
   ]
  },
  {
   "cell_type": "code",
   "execution_count": 19,
   "metadata": {
    "colab": {
     "base_uri": "https://localhost:8080/",
     "height": 542
    },
    "id": "BSQC5eT8M8Wz",
    "outputId": "1cd2a100-7c76-45db-9a93-ecdb3ed05431"
   },
   "outputs": [
    {
     "data": {
      "application/vnd.plotly.v1+json": {
       "config": {
        "plotlyServerURL": "https://plot.ly"
       },
       "data": [
        {
         "hovertemplate": "feature_1=%{x}<br>feature_2=%{y}<br>target=%{z}<extra></extra>",
         "legendgroup": "",
         "marker": {
          "color": "#636efa",
          "symbol": "circle"
         },
         "mode": "markers",
         "name": "",
         "scene": "scene",
         "showlegend": false,
         "type": "scatter3d",
         "x": {
          "bdata": "16C5hH5uvD/wZumZhUvCPy80T99TBci/9t5wWvNI0j9PJnfzEe/4v9HRx7XbLd2//nOGhdwLdz8jxvNywoe8PzHlQnqP9+6/eFfVyRlyZT/ypVoToMTZv8pLmHvqWtY/GIi6Z21e8L+b1ubg2hDoP6hYspFL9uQ/RTPXWSJj4z+ohXUi2aXFv2JvpXBi4ru/5E6Kkyjo4T9bNkh/ma3jP4xJeMII6+u/MOdVREOz4r+aeQSBXrvLP7C0dvGXiPM/2MEc3r7q9D+Bsr+FN9uwvwBC+9YJzu0/GvXVpxFU+L/ONeoEBFr/v3X7JzArGuU/HJK6Zude1D9MheFid5fav178kjmhXbu/xKAH161f5j8FtjCJSqvpv5xmIhXU1+k/eyQfOLcKBUAHH/CNzmHXP5MOJmnAd8M/4GgS/Q9Z9r9g0eQAhLbrPxiKC/FhxNu/0WRXZDUt7b8n4Jm6BqnxvyXqe1DjfAXA+5ym+W6J9T+MzCOZqVvnP9acryI1/NU/kAhEdi4y5z8vd9dwEVjgvxZMc4uaRNc/OdYx8IsYAkDHrXDQcUbcPzSmVSm4jMU/UadfbM3r1b9Rayk6Su7tP3bNaISCUOY/WCXFI7Nx8r8i+VC6wejyP7Dbkz8i1cS/ojkCRdckAUBxinIs5yvEP49cIiElUvG/BBM5IXKC9T+VoI9YLADsP7e+mD7C6+Q/O8Ywwtj8/D+9XGgWwfjiP5aQozPs6es/0XTnUJnM8D+88Wu1TMrSPxSK5OBwfsc/ro/0/pYa8b8MetHBVFLpv+QlmqswWs6/viDECkPD0j+wRtlxevr1P0HNkL3WW/C/5X1ZB+Fo5D/nnO4GBBzxv7NLUDQ8Tda/ujxROou+yr/TgnNw/EXuv54sP1jcQMm/Kqee9diMtT8sHAAirsDUP6rZGixleeC/h9lSr+SS6L8IMCDLAwz0vyR93duZyfG/QdCWWa940L/caCK6dmHYP8eFMC+Nd/8/ivmFDURpcb/3dK7U8RHyv646IbPtuMu/u/GKXGc36j9WGPMaTIj0P3PjuaCcy/I/3TWcPoqm6r8=",
          "dtype": "f8"
         },
         "y": {
          "bdata": "P/9yxIt72L9VSRKzhajqP8VQg9L+dPG/Dzcegs0b9z9dfw2waBvUP4jayc707Pm/GgvkQrFb5z+gwGIFNEzcv0XbtbY6Ee6/N6n7oFFM2z80MO3HXD/TP88l3LXSa86/emWBUpiP67+OlDZiytPpvxDGOSIfHfY/+BeMbh/Zzr8eKP6+rkcAwJb7ugNOffY/3YJwTXbn5j8db060a/H2v2CuCNwSlABA7KrMfnmc47+UerTUx5bsv/r7IP5/89S//O5yQt7j6D9unCrAqEbVP4Sg8hj6ppu/l82OTTZYCMBvYmMqBOP/v/gqIHvjcO8/TaPTlSLi6r8/fKrsQVPEPzRJF1qxnts/eK1eznDb0j9frxrOsJDtvyaUddnQGPW/bhpVvV7W5b+X+NnPunrjP6MCn70YydM/hERePWFG8r9t6JkRMCzxPzHilbIiF+o/Me376LEiwD+jwiSa5+HcP41JK9fW3PA/WSt4QWRa5r9hh+AsgiHkP8qEDWYaiNg/iP2nO25g5D+4ojdfNLfvv7X52z0qCOK/5eq+K2EO+D85NRH9pTHav8QZxHsr1f2/TS5UJoF89D+7XbtjZmHzv3Qws2RwJwDALrltfh+Xw78VSmapZvHrP+HExHbmI9S/Q/XfYujs8L8jGUSjuI3xvyI4HHfGg/6/PcR1UWjJAMDcfx61in3gP/gGKgLcd+Q/tPxhE4E3wT8YkRn0u3vvvzY0f5DNEfq/dhsd0cmN1D/6YGXvkybwv4Kar1oBiNw/C9JHp/z007+k6aufVZDsP42wf5pfbtS/1TkWK6EowD+0TWtttufgPx04H/cj5Pu/+muu3f14zj89s1xG0Kz7P1gHzSCdPMo/JLDdimMW2z/qbL2PVpT0P7utZ8anAQVARMpri81D9z+U1AHNubHSvzwmrSnsmf6/Qfwz3DmW+b8OgQYh3GTeP+GSTRVgKeS/0cEhDZi14r9++0WWOabsP2fX9P9nx8+/fZBFEcXc+L/aj5uEQJTkvwzdanuBI8o/LP8ohSk/8b9Z4vZK7sL9P48ArEx2XgRACgLfIysg378=",
          "dtype": "f8"
         },
         "z": {
          "bdata": "AJbyHchVxj8GrmYXES5SQInCyIF4sUTAacFqOmF/QUCbsadvJlRFwL4ygk2BhFPAT3Zs77eCUEDi3Q2dG102wGBhcu27ZSRAs5lmeNqNQ8AL8v4/Jh5HwDfi+w3C5UJARnVv5WxOUsAhEG7Q5IRRQCBFyL1ZUFxAJv2qj6SJSkCyQ/9VdiJdwG7HoxFAeiZA62FMRfxjN0BUph13ZeowwCCi0SXX41lAPfDtifdFT0DAWS8YknBFQJbJaLB2gjzASrMSb+4hMsA97FekWc1FQLDC99MJLE/AYwdITsCEX8DP+YJ7v21awEb9Rr/0cjLAIK/zj+Ij5T9BXpBLN0BXQEXKnmPBMU3ARPSK7PrgUkAc6wlSRRRHQD5x8QXPMlXAnHal5M1NCkDQOHfD14z7v9SSis26EE5AAB0PQScH979sh3Qp869YwN4bGrGASlRAQwOZyrsiM0CZ0B9EZ31TwJWvFvl6g0BAKphtS2sGN8BahJ6ZEm9TwICj3pKRrRtA3fHadTu6K0BO8Z/uIhc7QG+G1yg6b1DAsjZoBmx9ZkDJHLEoN3M2wLYZjdQ7UjLAi3vipXFlMEAR0HFqblxawM/Jq4toIFPAQOQfdJCa3z+AanRNNcTYv0BprF1kokDAswjblU8pRcCi0A6JGEtAwPzoMVXaISjA+nFki4WcYcDgJza0WrVRwEqQB6MNt0/AIBsH5NQyEcCdXjL4K+xVwAQAzcweDC3AGzestFt0M8Ajzqxwttw2QLArVA3HM1ZAkKIT4ZxD8L/59jRxORUzQKJbTOfyDTTA2jhHHzm7UECMT1DSTFxaQGy0vyKgjTVAenvYB9PZMUAq/bFf5iZEQN+o8BUhs01A6B2w0YK4VUDRWxB2PmdXQFMQJdzUhlxAEK1Dfa6aS0DwNd4t0fgXwOAsf3ZYPAxA+stl248/R8ADEgdEPwZawNaFuPDyUEvA4hmjIbo5T0DwLweAPSBQQA3Q/L7CmCJAXU8bxBFQNcDUoPs3LSlWwDiHcMfXZ0RAWmVKKsOmT8DwnsZy7aQYwEDNpHV4V2NA6Fdon4sREEA=",
          "dtype": "f8"
         }
        },
        {
         "type": "surface",
         "x": {
          "bdata": "AAAAAAAAFMDHcRzHcRwPwI7jOI7jOAbAqqqqqqqq+r9wHMdxHMfhv3Acx3Ecx+E/rKqqqqqq+j+Q4ziO4zgGQMhxHMdxHA9AAAAAAAAAFEA=",
          "dtype": "f8"
         },
         "y": {
          "bdata": "AAAAAAAAFMDHcRzHcRwPwI7jOI7jOAbAqqqqqqqq+r9wHMdxHMfhv3Acx3Ecx+E/rKqqqqqq+j+Q4ziO4zgGQMhxHMdxHA9AAAAAAAAAFEA=",
          "dtype": "f8"
         },
         "z": {
          "bdata": "Y1R6oMGUX8DIu8/WDx9gwGBNYt2+c2DA+N70423IYMCPcIfqHB1hwCcCGvHLcWHAvpOs93rGYcBWJT/+KRtiwO620QTZb2LAhUhkC4jEYsAhw5nau7tXwFDmvucZZVjAfwnk9HcOWcCuLAkC1rdZwN1PLg80YVrADXNTHJIKW8A8lngp8LNbwGu5nTZOXVzAmtzCQ6wGXcDJ/+dQCrBdwMJjcilsxU/AEFXeIRSMUMA/eAMvcjVRwG6bKDzQ3lHAnb5NSS6IUsDN4XJWjDFTwPwEmGPq2lPAKyi9cEiEVMBaS+J9pi1VwIluB4sE11XAQEGxnWATQMCeh/u3HGZBwPzNRdLYuELAWhSQ7JQLRMC5WtoGUV5FwBehJCENsUbAduduO8kDSMDULblVhVZJwDJ0A3BBqUrAkLpNiv37S8BErwd8RFXov7VRpsMSQQvAzFslNGo2GMBgxzuDJWYhwNrgZOwVsSbAUvqNVQb8K8DmiVtfe6MwwKMW8JPzSDPAX6OEyGvuNcAcMBn945M4wIYHovNsoT5AyXoNv/T7O0AN7niKfFY5QFBh5FUEsTZAk9RPIYwLNEDXR7vsE2YxQDR2TXA3gS1AulwkB0c2KEBBQ/udVusiQJBTpGnMQBtARiaSBcICT0Dn30frBbBNQImZ/dBJXUxAKlOzto0KS0DMDGmc0bdJQG7GHoIVZUhAD4DUZ1kSR0CxOYpNnb9FQFPzPzPhbERA9Kz1GCUaQ0BkpKnIZlpXQDWBhLsIsVZABl5frqoHVkDXOjqhTF5VQKgXFZTutFRAePTvhpALVEBJ0cp5MmJTQBqupWzUuFJA64qAX3YPUkC8Z1tSGGZRQKQ1io5sM19AdRJlgQ6KXkBG7z90sOBdQBfMGmdSN11A6Kj1WfSNXEC4hdBMluRbQIliqz84O1tAWj+GMtqRWkArHGElfOhZQPz4OxgeP1lAc2M1KjmGY0Dc0aIjijFjQERAEB3b3GJArK59FiyIYkAVHesPfTNiQH2LWAnO3mFA5vnFAh+KYUBOaDP8bzVhQLbWoPXA4GBAH0UO7xGMYEA=",
          "dtype": "f8",
          "shape": "10, 10"
         }
        }
       ],
       "layout": {
        "legend": {
         "tracegroupgap": 0
        },
        "scene": {
         "domain": {
          "x": [
           0,
           1
          ],
          "y": [
           0,
           1
          ]
         },
         "xaxis": {
          "title": {
           "text": "feature_1"
          }
         },
         "yaxis": {
          "title": {
           "text": "feature_2"
          }
         },
         "zaxis": {
          "title": {
           "text": "target"
          }
         }
        },
        "template": {
         "data": {
          "bar": [
           {
            "error_x": {
             "color": "#2a3f5f"
            },
            "error_y": {
             "color": "#2a3f5f"
            },
            "marker": {
             "line": {
              "color": "#E5ECF6",
              "width": 0.5
             },
             "pattern": {
              "fillmode": "overlay",
              "size": 10,
              "solidity": 0.2
             }
            },
            "type": "bar"
           }
          ],
          "barpolar": [
           {
            "marker": {
             "line": {
              "color": "#E5ECF6",
              "width": 0.5
             },
             "pattern": {
              "fillmode": "overlay",
              "size": 10,
              "solidity": 0.2
             }
            },
            "type": "barpolar"
           }
          ],
          "carpet": [
           {
            "aaxis": {
             "endlinecolor": "#2a3f5f",
             "gridcolor": "white",
             "linecolor": "white",
             "minorgridcolor": "white",
             "startlinecolor": "#2a3f5f"
            },
            "baxis": {
             "endlinecolor": "#2a3f5f",
             "gridcolor": "white",
             "linecolor": "white",
             "minorgridcolor": "white",
             "startlinecolor": "#2a3f5f"
            },
            "type": "carpet"
           }
          ],
          "choropleth": [
           {
            "colorbar": {
             "outlinewidth": 0,
             "ticks": ""
            },
            "type": "choropleth"
           }
          ],
          "contour": [
           {
            "colorbar": {
             "outlinewidth": 0,
             "ticks": ""
            },
            "colorscale": [
             [
              0,
              "#0d0887"
             ],
             [
              0.1111111111111111,
              "#46039f"
             ],
             [
              0.2222222222222222,
              "#7201a8"
             ],
             [
              0.3333333333333333,
              "#9c179e"
             ],
             [
              0.4444444444444444,
              "#bd3786"
             ],
             [
              0.5555555555555556,
              "#d8576b"
             ],
             [
              0.6666666666666666,
              "#ed7953"
             ],
             [
              0.7777777777777778,
              "#fb9f3a"
             ],
             [
              0.8888888888888888,
              "#fdca26"
             ],
             [
              1,
              "#f0f921"
             ]
            ],
            "type": "contour"
           }
          ],
          "contourcarpet": [
           {
            "colorbar": {
             "outlinewidth": 0,
             "ticks": ""
            },
            "type": "contourcarpet"
           }
          ],
          "heatmap": [
           {
            "colorbar": {
             "outlinewidth": 0,
             "ticks": ""
            },
            "colorscale": [
             [
              0,
              "#0d0887"
             ],
             [
              0.1111111111111111,
              "#46039f"
             ],
             [
              0.2222222222222222,
              "#7201a8"
             ],
             [
              0.3333333333333333,
              "#9c179e"
             ],
             [
              0.4444444444444444,
              "#bd3786"
             ],
             [
              0.5555555555555556,
              "#d8576b"
             ],
             [
              0.6666666666666666,
              "#ed7953"
             ],
             [
              0.7777777777777778,
              "#fb9f3a"
             ],
             [
              0.8888888888888888,
              "#fdca26"
             ],
             [
              1,
              "#f0f921"
             ]
            ],
            "type": "heatmap"
           }
          ],
          "histogram": [
           {
            "marker": {
             "pattern": {
              "fillmode": "overlay",
              "size": 10,
              "solidity": 0.2
             }
            },
            "type": "histogram"
           }
          ],
          "histogram2d": [
           {
            "colorbar": {
             "outlinewidth": 0,
             "ticks": ""
            },
            "colorscale": [
             [
              0,
              "#0d0887"
             ],
             [
              0.1111111111111111,
              "#46039f"
             ],
             [
              0.2222222222222222,
              "#7201a8"
             ],
             [
              0.3333333333333333,
              "#9c179e"
             ],
             [
              0.4444444444444444,
              "#bd3786"
             ],
             [
              0.5555555555555556,
              "#d8576b"
             ],
             [
              0.6666666666666666,
              "#ed7953"
             ],
             [
              0.7777777777777778,
              "#fb9f3a"
             ],
             [
              0.8888888888888888,
              "#fdca26"
             ],
             [
              1,
              "#f0f921"
             ]
            ],
            "type": "histogram2d"
           }
          ],
          "histogram2dcontour": [
           {
            "colorbar": {
             "outlinewidth": 0,
             "ticks": ""
            },
            "colorscale": [
             [
              0,
              "#0d0887"
             ],
             [
              0.1111111111111111,
              "#46039f"
             ],
             [
              0.2222222222222222,
              "#7201a8"
             ],
             [
              0.3333333333333333,
              "#9c179e"
             ],
             [
              0.4444444444444444,
              "#bd3786"
             ],
             [
              0.5555555555555556,
              "#d8576b"
             ],
             [
              0.6666666666666666,
              "#ed7953"
             ],
             [
              0.7777777777777778,
              "#fb9f3a"
             ],
             [
              0.8888888888888888,
              "#fdca26"
             ],
             [
              1,
              "#f0f921"
             ]
            ],
            "type": "histogram2dcontour"
           }
          ],
          "mesh3d": [
           {
            "colorbar": {
             "outlinewidth": 0,
             "ticks": ""
            },
            "type": "mesh3d"
           }
          ],
          "parcoords": [
           {
            "line": {
             "colorbar": {
              "outlinewidth": 0,
              "ticks": ""
             }
            },
            "type": "parcoords"
           }
          ],
          "pie": [
           {
            "automargin": true,
            "type": "pie"
           }
          ],
          "scatter": [
           {
            "fillpattern": {
             "fillmode": "overlay",
             "size": 10,
             "solidity": 0.2
            },
            "type": "scatter"
           }
          ],
          "scatter3d": [
           {
            "line": {
             "colorbar": {
              "outlinewidth": 0,
              "ticks": ""
             }
            },
            "marker": {
             "colorbar": {
              "outlinewidth": 0,
              "ticks": ""
             }
            },
            "type": "scatter3d"
           }
          ],
          "scattercarpet": [
           {
            "marker": {
             "colorbar": {
              "outlinewidth": 0,
              "ticks": ""
             }
            },
            "type": "scattercarpet"
           }
          ],
          "scattergeo": [
           {
            "marker": {
             "colorbar": {
              "outlinewidth": 0,
              "ticks": ""
             }
            },
            "type": "scattergeo"
           }
          ],
          "scattergl": [
           {
            "marker": {
             "colorbar": {
              "outlinewidth": 0,
              "ticks": ""
             }
            },
            "type": "scattergl"
           }
          ],
          "scattermap": [
           {
            "marker": {
             "colorbar": {
              "outlinewidth": 0,
              "ticks": ""
             }
            },
            "type": "scattermap"
           }
          ],
          "scattermapbox": [
           {
            "marker": {
             "colorbar": {
              "outlinewidth": 0,
              "ticks": ""
             }
            },
            "type": "scattermapbox"
           }
          ],
          "scatterpolar": [
           {
            "marker": {
             "colorbar": {
              "outlinewidth": 0,
              "ticks": ""
             }
            },
            "type": "scatterpolar"
           }
          ],
          "scatterpolargl": [
           {
            "marker": {
             "colorbar": {
              "outlinewidth": 0,
              "ticks": ""
             }
            },
            "type": "scatterpolargl"
           }
          ],
          "scatterternary": [
           {
            "marker": {
             "colorbar": {
              "outlinewidth": 0,
              "ticks": ""
             }
            },
            "type": "scatterternary"
           }
          ],
          "surface": [
           {
            "colorbar": {
             "outlinewidth": 0,
             "ticks": ""
            },
            "colorscale": [
             [
              0,
              "#0d0887"
             ],
             [
              0.1111111111111111,
              "#46039f"
             ],
             [
              0.2222222222222222,
              "#7201a8"
             ],
             [
              0.3333333333333333,
              "#9c179e"
             ],
             [
              0.4444444444444444,
              "#bd3786"
             ],
             [
              0.5555555555555556,
              "#d8576b"
             ],
             [
              0.6666666666666666,
              "#ed7953"
             ],
             [
              0.7777777777777778,
              "#fb9f3a"
             ],
             [
              0.8888888888888888,
              "#fdca26"
             ],
             [
              1,
              "#f0f921"
             ]
            ],
            "type": "surface"
           }
          ],
          "table": [
           {
            "cells": {
             "fill": {
              "color": "#EBF0F8"
             },
             "line": {
              "color": "white"
             }
            },
            "header": {
             "fill": {
              "color": "#C8D4E3"
             },
             "line": {
              "color": "white"
             }
            },
            "type": "table"
           }
          ]
         },
         "layout": {
          "annotationdefaults": {
           "arrowcolor": "#2a3f5f",
           "arrowhead": 0,
           "arrowwidth": 1
          },
          "autotypenumbers": "strict",
          "coloraxis": {
           "colorbar": {
            "outlinewidth": 0,
            "ticks": ""
           }
          },
          "colorscale": {
           "diverging": [
            [
             0,
             "#8e0152"
            ],
            [
             0.1,
             "#c51b7d"
            ],
            [
             0.2,
             "#de77ae"
            ],
            [
             0.3,
             "#f1b6da"
            ],
            [
             0.4,
             "#fde0ef"
            ],
            [
             0.5,
             "#f7f7f7"
            ],
            [
             0.6,
             "#e6f5d0"
            ],
            [
             0.7,
             "#b8e186"
            ],
            [
             0.8,
             "#7fbc41"
            ],
            [
             0.9,
             "#4d9221"
            ],
            [
             1,
             "#276419"
            ]
           ],
           "sequential": [
            [
             0,
             "#0d0887"
            ],
            [
             0.1111111111111111,
             "#46039f"
            ],
            [
             0.2222222222222222,
             "#7201a8"
            ],
            [
             0.3333333333333333,
             "#9c179e"
            ],
            [
             0.4444444444444444,
             "#bd3786"
            ],
            [
             0.5555555555555556,
             "#d8576b"
            ],
            [
             0.6666666666666666,
             "#ed7953"
            ],
            [
             0.7777777777777778,
             "#fb9f3a"
            ],
            [
             0.8888888888888888,
             "#fdca26"
            ],
            [
             1,
             "#f0f921"
            ]
           ],
           "sequentialminus": [
            [
             0,
             "#0d0887"
            ],
            [
             0.1111111111111111,
             "#46039f"
            ],
            [
             0.2222222222222222,
             "#7201a8"
            ],
            [
             0.3333333333333333,
             "#9c179e"
            ],
            [
             0.4444444444444444,
             "#bd3786"
            ],
            [
             0.5555555555555556,
             "#d8576b"
            ],
            [
             0.6666666666666666,
             "#ed7953"
            ],
            [
             0.7777777777777778,
             "#fb9f3a"
            ],
            [
             0.8888888888888888,
             "#fdca26"
            ],
            [
             1,
             "#f0f921"
            ]
           ]
          },
          "colorway": [
           "#636efa",
           "#EF553B",
           "#00cc96",
           "#ab63fa",
           "#FFA15A",
           "#19d3f3",
           "#FF6692",
           "#B6E880",
           "#FF97FF",
           "#FECB52"
          ],
          "font": {
           "color": "#2a3f5f"
          },
          "geo": {
           "bgcolor": "white",
           "lakecolor": "white",
           "landcolor": "#E5ECF6",
           "showlakes": true,
           "showland": true,
           "subunitcolor": "white"
          },
          "hoverlabel": {
           "align": "left"
          },
          "hovermode": "closest",
          "mapbox": {
           "style": "light"
          },
          "paper_bgcolor": "white",
          "plot_bgcolor": "#E5ECF6",
          "polar": {
           "angularaxis": {
            "gridcolor": "white",
            "linecolor": "white",
            "ticks": ""
           },
           "bgcolor": "#E5ECF6",
           "radialaxis": {
            "gridcolor": "white",
            "linecolor": "white",
            "ticks": ""
           }
          },
          "scene": {
           "xaxis": {
            "backgroundcolor": "#E5ECF6",
            "gridcolor": "white",
            "gridwidth": 2,
            "linecolor": "white",
            "showbackground": true,
            "ticks": "",
            "zerolinecolor": "white"
           },
           "yaxis": {
            "backgroundcolor": "#E5ECF6",
            "gridcolor": "white",
            "gridwidth": 2,
            "linecolor": "white",
            "showbackground": true,
            "ticks": "",
            "zerolinecolor": "white"
           },
           "zaxis": {
            "backgroundcolor": "#E5ECF6",
            "gridcolor": "white",
            "gridwidth": 2,
            "linecolor": "white",
            "showbackground": true,
            "ticks": "",
            "zerolinecolor": "white"
           }
          },
          "shapedefaults": {
           "line": {
            "color": "#2a3f5f"
           }
          },
          "ternary": {
           "aaxis": {
            "gridcolor": "white",
            "linecolor": "white",
            "ticks": ""
           },
           "baxis": {
            "gridcolor": "white",
            "linecolor": "white",
            "ticks": ""
           },
           "bgcolor": "#E5ECF6",
           "caxis": {
            "gridcolor": "white",
            "linecolor": "white",
            "ticks": ""
           }
          },
          "title": {
           "x": 0.05
          },
          "xaxis": {
           "automargin": true,
           "gridcolor": "white",
           "linecolor": "white",
           "ticks": "",
           "title": {
            "standoff": 15
           },
           "zerolinecolor": "white",
           "zerolinewidth": 2
          },
          "yaxis": {
           "automargin": true,
           "gridcolor": "white",
           "linecolor": "white",
           "ticks": "",
           "title": {
            "standoff": 15
           },
           "zerolinecolor": "white",
           "zerolinewidth": 2
          }
         }
        },
        "title": {
         "text": "Regression Dataset"
        }
       }
      }
     },
     "metadata": {},
     "output_type": "display_data"
    }
   ],
   "source": [
    "fig = px.scatter_3d(df, x='feature_1', y='feature_2', z='target', title='Regression Dataset')\n",
    "\n",
    "fig.add_trace(go.Surface(x=x,y=y,z=z))\n",
    "fig.show()"
   ]
  },
  {
   "cell_type": "code",
   "execution_count": null,
   "metadata": {
    "id": "AuvYV99yNhxs"
   },
   "outputs": [],
   "source": []
  }
 ],
 "metadata": {
  "colab": {
   "provenance": []
  },
  "kernelspec": {
   "display_name": "Python 3 (ipykernel)",
   "language": "python",
   "name": "python3"
  },
  "language_info": {
   "codemirror_mode": {
    "name": "ipython",
    "version": 3
   },
   "file_extension": ".py",
   "mimetype": "text/x-python",
   "name": "python",
   "nbconvert_exporter": "python",
   "pygments_lexer": "ipython3",
   "version": "3.12.6"
  }
 },
 "nbformat": 4,
 "nbformat_minor": 4
}
